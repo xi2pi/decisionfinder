{
 "cells": [
  {
   "cell_type": "markdown",
   "id": "d92b3d58-ef0e-4b03-bd04-aa294ee28fe4",
   "metadata": {},
   "source": [
    "Load required Python libraries"
   ]
  },
  {
   "cell_type": "code",
   "execution_count": 2,
   "id": "d39a05b8-5849-4fb5-b735-c3fe42afa86b",
   "metadata": {},
   "outputs": [],
   "source": [
    "import os\n",
    "from langchain_chroma import Chroma\n",
    "from chromadb.config import Settings as ChromaSettings\n",
    "from langchain_community import embeddings\n",
    "from langchain_community.document_loaders import PyPDFLoader\n",
    "from langchain_text_splitters import RecursiveCharacterTextSplitter\n",
    "from langchain_ollama import OllamaLLM\n",
    "from langchain.chains.question_answering import load_qa_chain\n",
    "from langchain_core.documents import Document\n",
    "import time\n",
    "import pandas as pd\n",
    "import re"
   ]
  },
  {
   "cell_type": "markdown",
   "id": "2e900903-b447-4b31-87ab-acc0311bbbf8",
   "metadata": {},
   "source": [
    "Load ollama embeddings "
   ]
  },
  {
   "cell_type": "code",
   "execution_count": 3,
   "id": "97e6af17-4e71-4754-870b-9686b1cc3f72",
   "metadata": {},
   "outputs": [
    {
     "name": "stderr",
     "output_type": "stream",
     "text": [
      "C:\\Users\\HP\\AppData\\Local\\Temp\\ipykernel_2916\\488189547.py:1: LangChainDeprecationWarning:\n",
      "\n",
      "The class `OllamaEmbeddings` was deprecated in LangChain 0.3.1 and will be removed in 1.0.0. An updated version of the class exists in the :class:`~langchain-ollama package and should be used instead. To use it run `pip install -U :class:`~langchain-ollama` and import as `from :class:`~langchain_ollama import OllamaEmbeddings``.\n",
      "\n"
     ]
    }
   ],
   "source": [
    "EMBEDDINGS = embeddings.OllamaEmbeddings(model=\"nomic-embed-text:latest\", num_gpu=8)\n",
    "\n",
    "PERSIST_DIR = \"./chroma_langchain\""
   ]
  },
  {
   "cell_type": "code",
   "execution_count": 4,
   "id": "a9fa875a-f27c-4002-bd29-20b9757ecdb8",
   "metadata": {},
   "outputs": [],
   "source": [
    "def create_vector_store(chunks):\n",
    "    documents = [Document(page_content=chunk, metadata={}) for chunk in chunks]\n",
    "    v_db = Chroma.from_documents(\n",
    "        documents=documents,\n",
    "        embedding=EMBEDDINGS,          \n",
    "        persist_directory=PERSIST_DIR\n",
    "    )\n",
    "    return v_db\n",
    "\n",
    "def load_vector_store():\n",
    "    return Chroma(\n",
    "    persist_directory=PERSIST_DIR,\n",
    "    embedding_function=EMBEDDINGS, \n",
    ")\n",
    "    \n",
    "def generate_response(vector_store, query, k=4):\n",
    "    llm = OllamaLLM(model=\"qwen2.5:latest\")  \n",
    "    chain = load_qa_chain(llm, chain_type=\"stuff\", verbose=False)\n",
    "\n",
    "    matching_docs = vector_store.similarity_search(query, k=k)\n",
    "    response = chain.invoke({\n",
    "        \"input_documents\": matching_docs,\n",
    "        \"question\": query\n",
    "    })\n",
    "    return response"
   ]
  },
  {
   "cell_type": "markdown",
   "id": "e7f7c177-9878-421d-a271-a4bc904c89f8",
   "metadata": {},
   "source": [
    "Load data and create chunks"
   ]
  },
  {
   "cell_type": "code",
   "execution_count": 6,
   "id": "9bf05213-5e86-4bdd-8f57-2af12ba1cb1c",
   "metadata": {},
   "outputs": [
    {
     "name": "stdout",
     "output_type": "stream",
     "text": [
      "120 Chunks saved in chunks.txt.\n"
     ]
    }
   ],
   "source": [
    "# Load CSV file with the correct encoding\n",
    "df = pd.read_csv(\"epo_decisions.csv\", encoding='ISO-8859-1')\n",
    "\n",
    "# replace 'None' string with actual None (NaN) for proper handling\n",
    "df['ep-catchword-language'] = df['ep-catchword-language'].replace('None', None)\n",
    "df['ep-headnote-language'] = df['ep-headnote-language'].replace('None', None)\n",
    "\n",
    "# merge the columns, taking the non-None value\n",
    "df[\"Language\"] = df['ep-catchword-language'].combine_first(df['ep-headnote-language'])\n",
    "df[\"Decision Type\"] =  df[\"Case Code\"]\n",
    "\n",
    "# function to create case \n",
    "def generate_case_number(reference):\n",
    "    match = re.match(r'([GJTDW])(\\d{2})(\\d{4})[A-Z]+\\d+', reference)\n",
    "    if match:\n",
    "        decision_type = match.group(1)\n",
    "        case_number = match.group(3).lstrip(\"0\")  # remove zeros\n",
    "        year = match.group(2)\n",
    "        return f\"{decision_type} {case_number}/{year}\"\n",
    "    return reference  # keep original in case of no match\n",
    "\n",
    "df[\"Case Number\"] = df[\"Reference\"].apply(generate_case_number)\n",
    "\n",
    "# remove duplicates\n",
    "df = df.drop_duplicates(subset=[\"ep-headnote\", \"ep-catchword\"], keep=\"first\")\n",
    "\n",
    "# number of extracted decisions\n",
    "extrahiert = len(df)\n",
    "\n",
    "# Filter: only G decisions in EN\n",
    "df_g_en = df[(df[\"Language\"] == \"EN\") & (df[\"Case Code\"] == \"G\")]\n",
    "\n",
    "# print(len(df_g_en))  # number of decisions\n",
    "# 120; correct\n",
    "#print(df_g_en.head(20))\n",
    "\n",
    "chunks = []\n",
    "\n",
    "for _, row in df_g_en.iterrows():\n",
    "    # Headnote, otherwise Catchword\n",
    "    text = row[\"ep-headnote\"] if pd.notna(row[\"ep-headnote\"]) else row[\"ep-catchword\"]\n",
    "    \n",
    "    # if Catchword is NaN → skip\n",
    "    if pd.isna(text):\n",
    "        continue\n",
    "    \n",
    "    # format string\n",
    "    entry = f'{row[\"Case Number\"]} ({row[\"Reference\"]}) {text}'\n",
    "    chunks.append(entry)\n",
    "\n",
    "file_path = \"chunks.txt\"\n",
    "\n",
    "# write all chunks in one TXT\n",
    "with open(file_path, \"w\", encoding=\"utf-8\") as f:\n",
    "    for chunk in chunks:\n",
    "        f.write(chunk + \"\\n\")\n",
    "\n",
    "print(f\"{len(chunks)} Chunks saved in {file_path}.\")\n"
   ]
  },
  {
   "cell_type": "markdown",
   "id": "6f752a9b-5856-443d-b11f-80f11b363e42",
   "metadata": {},
   "source": [
    "Create vector store (did not work at first run, excecute twice)"
   ]
  },
  {
   "cell_type": "code",
   "execution_count": 7,
   "id": "5d66011a-eb44-4de6-a4b1-a3d8bc905351",
   "metadata": {},
   "outputs": [
    {
     "name": "stderr",
     "output_type": "stream",
     "text": [
      "Failed to send telemetry event ClientStartEvent: capture() takes 1 positional argument but 3 were given\n",
      "Failed to send telemetry event ClientCreateCollectionEvent: capture() takes 1 positional argument but 3 were given\n"
     ]
    }
   ],
   "source": [
    "# Create vector store\n",
    "vector_store = create_vector_store(chunks)"
   ]
  },
  {
   "cell_type": "markdown",
   "id": "b3cd4c55-3474-4068-994f-7637cb7b5665",
   "metadata": {},
   "source": [
    "Ask questions"
   ]
  },
  {
   "cell_type": "code",
   "execution_count": 8,
   "id": "411976cb-9fda-4ee9-be52-955c7e3926cc",
   "metadata": {},
   "outputs": [
    {
     "name": "stderr",
     "output_type": "stream",
     "text": [
      "Failed to send telemetry event ClientStartEvent: capture() takes 1 positional argument but 3 were given\n",
      "Failed to send telemetry event ClientCreateCollectionEvent: capture() takes 1 positional argument but 3 were given\n",
      "C:\\Users\\HP\\AppData\\Local\\Temp\\ipykernel_2916\\2265326480.py:18: LangChainDeprecationWarning:\n",
      "\n",
      "This class is deprecated. See the following migration guides for replacements based on `chain_type`:\n",
      "stuff: https://python.langchain.com/docs/versions/migrating_chains/stuff_docs_chain\n",
      "map_reduce: https://python.langchain.com/docs/versions/migrating_chains/map_reduce_chain\n",
      "refine: https://python.langchain.com/docs/versions/migrating_chains/refine_chain\n",
      "map_rerank: https://python.langchain.com/docs/versions/migrating_chains/map_rerank_docs_chain\n",
      "\n",
      "See also guides on retrieval and question-answering here: https://python.langchain.com/docs/how_to/#qa-with-rag\n",
      "\n",
      "Failed to send telemetry event CollectionQueryEvent: capture() takes 1 positional argument but 3 were given\n"
     ]
    },
    {
     "name": "stdout",
     "output_type": "stream",
     "text": [
      "Yes, a European patent application can be refused under Articles 97(2) and 125 EPC if it claims the same subject-matter as a European patent which has been granted to the same applicant and does not form part of the state of the art pursuant to Article 54(2) and (3) EPC. This is according to the decision G 4/19 (G190004EX1).\n"
     ]
    }
   ],
   "source": [
    "vector_store_loaded = load_vector_store()\n",
    "query = \"Can a European patent application be refused if it claims the same subject-matter as a European patent which has been granted to the same applicant? (cite a relevant decision, in form of GXX/XX)\"\n",
    "# G4/19\n",
    "\n",
    "answer = generate_response(vector_store_loaded, query)\n",
    "print(answer['output_text'])"
   ]
  },
  {
   "cell_type": "markdown",
   "id": "8dfc00dd-6449-4222-9965-9cbda3b71771",
   "metadata": {},
   "source": [
    "# Visualization of the vector store"
   ]
  },
  {
   "cell_type": "code",
   "execution_count": 9,
   "id": "16e8dbe0-cb5b-47d7-b945-5b301ddbb82d",
   "metadata": {
    "scrolled": true
   },
   "outputs": [
    {
     "name": "stderr",
     "output_type": "stream",
     "text": [
      "Failed to send telemetry event ClientStartEvent: capture() takes 1 positional argument but 3 were given\n",
      "Failed to send telemetry event ClientCreateCollectionEvent: capture() takes 1 positional argument but 3 were given\n",
      "Failed to send telemetry event CollectionGetEvent: capture() takes 1 positional argument but 3 were given\n"
     ]
    },
    {
     "name": "stdout",
     "output_type": "stream",
     "text": [
      "240\n"
     ]
    },
    {
     "data": {
      "image/png": "[encoded data removed]",
      "text/plain": [
       "<Figure size 640x480 with 1 Axes>"
      ]
     },
     "metadata": {},
     "output_type": "display_data"
    }
   ],
   "source": [
    "from sklearn.decomposition import PCA\n",
    "import matplotlib.pyplot as plt\n",
    "\n",
    "vector_store_loaded = load_vector_store()\n",
    "\n",
    "# load vectore\n",
    "data = vector_store_loaded.get(include=[\"embeddings\", \"documents\"])\n",
    "embeddings = data[\"embeddings\"]\n",
    "docs = data[\"documents\"]\n",
    "\n",
    "# 2D reduction via PCA\n",
    "pca = PCA(n_components=2)\n",
    "reduced = pca.fit_transform(embeddings)\n",
    "\n",
    "# plotting\n",
    "#plt.figure(figsize=(10, 7))\n",
    "plt.scatter(reduced[:, 0], reduced[:, 1])\n",
    "\n",
    "print(len(docs))\n",
    "# Optional: Dokumentausschnitte als Labels anzeigen\n",
    "for i, txt in enumerate(docs):\n",
    "#for i, txt in enumerate(docs[:50]):  # not too many at once\n",
    "    plt.annotate(txt[:7], (reduced[i, 0], reduced[i, 1]))  # Kür\n",
    "\n",
    "plt.title(\"Visualization of embeddings (PCA)\")\n",
    "plt.savefig(\"embedding_plot.png\", dpi=300, bbox_inches='tight') \n",
    "\n",
    "plt.show()\n"
   ]
  },
  {
   "cell_type": "code",
   "execution_count": 10,
   "id": "fcfc5ce3-1758-4238-8b1d-6678ae8396b3",
   "metadata": {},
   "outputs": [],
   "source": [
    "import plotly.io as pio\n",
    "pio.renderers.default = \"plotly_mimetype\"  # ideal für JupyterLab 3+\n",
    "# Alternativen, falls nötig: \"notebook_connected\" oder \"iframe\""
   ]
  },
  {
   "cell_type": "code",
   "execution_count": 11,
   "id": "848ee0e4-f9f4-49b0-9347-7a6354508324",
   "metadata": {},
   "outputs": [
    {
     "name": "stderr",
     "output_type": "stream",
     "text": [
      "Failed to send telemetry event CollectionGetEvent: capture() takes 1 positional argument but 3 were given\n"
     ]
    },
    {
     "data": {
      "application/vnd.plotly.v1+json": {
       "config": {
        "plotlyServerURL": "https://plot.ly"
       },
       "data": [
        {
         "customdata": [
          [
           "28c06547-c126-4193-96c9-8cb78f55b8fb",
           "G 1/02 (G020001EP1) [EN] Points 4 and 6 of the Notice from the Vice-President Directorate-General 2 dated 28 April 1999 (OJ EPO 1999, 506) do not conflict with provisions of a higher level."
          ],
          [
           "d0701f59-34f5-4fa7-a01e-0cf9cbd70469",
           "G 2/02 (G020002EP1) [EN] The TRIPS Agreement does not entitle the applicant for a European patent application to claim priority from a first filing in a state which was not at the relevant dates a mem"
          ],
          [
           "afafe00b-9cb5-4ad0-95b9-7ead91a0e83f",
           "G 2/02 (G020002EX1) [EN] The TRIPs Agreement does not entitle the applicant for a European patent application to claim priority from a first filing in a State which was not at the relevant dates a mem"
          ],
          [
           "95674925-2f47-44a1-8052-b0349621ede3",
           "G 1/03 (G030001EP1) [EN] I. An amendment to a claim by the introduction of a disclaimer may not be refused under Article 123(2) EPC for the sole reason that neither the disclaimer nor the subject-matt"
          ],
          [
           "1bc1a393-ef2f-45f3-a0be-b15c15b29fa5",
           "G 1/03 (G030001EX1) [EN] 1. An amendment to a claim by the introduction of a disclaimer may not be refused under Article 123(2) EPC for the sole reason that neither the disclaimer nor the subject-matt"
          ],
          [
           "e07f6f75-1f54-4ab9-96a5-08ded4e88e59",
           "G 3/03 (G030003EP1) [EN] I. In the event of interlocutory revision under Article 109(1) EPC, the department of the first instance whose decision has been appealed is not competent to refuse a request "
          ],
          [
           "06d78333-3713-4c5b-8012-07c402ed5196",
           "G 3/03 (G030003EX1) [EN] 1.In the event of interlocutory revision under Article 109(1) EPC, the department of the first instance whose decision has been appealed is not competent to refuse a request o"
          ],
          [
           "2176d317-92ca-49a6-9063-0dfd3bbb0fec",
           "G 1/04 (G040001EP1) [EN] I. In order that the subject-matter of a claim relating to a diagnostic method practised on the human or animal body falls under the prohibition of Article 52(4) EPC, the clai"
          ],
          [
           "1b74f924-bac1-47bc-ba11-01fb35a93d28",
           "G 1/04 (G040001EX1) [EN] 1. In order that the subject-matter of a claim relating to a diagnostic method practised on the human or animal body falls under the prohibition of Article 52(4) EPC, the clai"
          ],
          [
           "89d13e9d-10a0-449a-9360-7c4d9887e1f9",
           "G 2/04 (G040002EP1) [EN] I. (a) The status as an opponent cannot be freely transferred. (b) A legal person who was a subsidiary of the opponent when the opposition was filed and who carries on the bus"
          ],
          [
           "db9362f5-e23a-4f78-831f-605a9b639f2b",
           "G 2/04 (G040002EX1) [EN] (see Order)"
          ],
          [
           "b2d5dce5-630b-4328-85c9-866fa6561609",
           "G 3/04 (G040003EP1) [EN] After withdrawal of the sole appeal, the proceedings may not be continued with a third party who intervened during the appeal proceedings."
          ],
          [
           "041183e6-de8b-47c8-a8ec-d9257a200d73",
           "G 1/05 (G050001EP1) [EN] I. If a member of a Board of Appeal in a notice of withdrawal gives a ground which may by its nature constitute a possible ground for an objection of partiality that ground sh"
          ],
          [
           "6cf347ce-68e3-4103-af8d-3c168110f6d8",
           "G 1/05 (G050001EP2) [EN] So far as Article 76(1) EPC is concerned, a divisional application which at its actual date of filing contains subject-matter extending beyond the content of the earlier appli"
          ],
          [
           "8016984a-afa4-4373-be5f-8558817a7537",
           "G 1/05 (G050001EX2) [EN] So far as Article 76(1) EPC is concerned, a divisional application which at its actual date of filing contains subject- matter extending beyond the content of the earlier appl"
          ],
          [
           "cfa4c33f-7086-4f95-b558-ad6db0e2eb22",
           "G 1/06 (G060001EP1) [EN] In the case of a sequence of applications consisting of a root (originating) application followed by divisional applications, each divided from its predecessor, it is a necess"
          ],
          [
           "df26ffae-369e-4993-9f42-7603a2864c84",
           "G 1/06 (G060001EX1) [EN] In the case of a sequence of applications consisting of a root (originating) application followed by divisional applications, each divided from its predecessor, it is a necess"
          ],
          [
           "d35a0918-8655-4eed-b409-7b5106a75d2f",
           "G 2/06 (G060002EP1) [EN] 1. The request for a preliminary ruling by the European Court of Justice on the questions suggested is rejected as inadmissible. 2. The questions referred to the Enlarged Boar"
          ],
          [
           "6f6d706a-4778-4b82-9ae1-b2441371f21f",
           "G 2/06 (G060002EX1) [EN] 1. The request for a preliminary ruling by the European Court of Justice on the questions suggested is rejected as inadmissible. 2. The questions referred to the Enlarged Boar"
          ],
          [
           "3da30c76-af49-4da8-a209-757c60b1e89c",
           "G 1/07 (G070001EP1) [EN] The questions referred to the Enlarged Board of Appeal are answered as follows: 1. A claimed imaging method, in which, when carried out, maintaining the life and health of the"
          ],
          [
           "a166d8e3-857b-41a9-9709-76f37535507c",
           "G 2/07 (G070002EP1) [EN] The questions of law referred to the Enlarged Board of Appeal are answered as follows: 1. A non-microbiological process for the production of plants which contains or consists"
          ],
          [
           "25519901-6272-4a0e-a8d9-43c589cc6428",
           "G 2/08 (G080002EP1) [EN] The questions referred to the Enlarged Board of Appeal are answered as follows: Question 1: Where it is already known to use a medicament to treat an illness, Article 54(5) EP"
          ],
          [
           "4dee3f20-1000-4e87-9539-e83c8e3e0cf5",
           "G 3/08 (G080003EX1) [EN] 1. In exercising his or her right of referral a President of the EPO is entitled to make full use of the discretion granted by Article 112 (1) (b) EPC, even if his or her appr"
          ],
          [
           "036b1b33-7093-4a60-b6b5-2b738e79ace4",
           "G 4/08 (G080004EP1) [EN] The Enlarged Board of Appeal, in response to the three points of law referred to it, concludes that: Question 1: If an international patent application has been filed and publ"
          ],
          [
           "5370dd09-d31d-4309-a20f-a2e1fe64aa3a",
           "G 1/09 (G090001EP1) [EN] In the case where no appeal is filed, a European Patent application which has been refused by a decision of the Examining Division is thereafter still pending within the meani"
          ],
          [
           "8aad5616-8773-4835-8315-bd5337f2ecc8",
           "G 1/10 (G100001EP1) [EN] The questions referred to the Enlarged Board of Appeal are answered as follows: 1. Since Rule 140 EPC is not available to correct the text of a patent, a patent proprietor's r"
          ],
          [
           "88137ffd-ecbe-4319-9fd9-d1f897c18836",
           "G 2/10 (G100002EP1) [EN] The question referred to the Enlarged Board of Appeal is answered as follows: 1a. An amendment to a claim by the introduction of a disclaimer disclaiming from it subject-matte"
          ],
          [
           "f61f1b52-8323-4ed7-96fa-112824e1ff5d",
           "G 1/11 (G110001EP1) [EN] A technical board of appeal is competent to hear an appeal against an EPO examining division's decision  taken separately from its decision granting a patent or refusing the "
          ],
          [
           "19180d91-c7f8-48d0-a44b-f10555c6db1b",
           "G 1/12 (G120001EP1) [EN] The questions referred to the Enlarged Board of Appeal are answered as follows: Question (1): The answer to reformulated question (1) - namely whether when a notice of appeal,"
          ],
          [
           "a3533351-6623-44a8-9b24-950acc0a68f9",
           "G 2/12 (G120002EP1) [EN] 1. The exclusion of essentially biological processes for the production of plants in Article 53(b) EPC does not have a negative effect on the allowability of a product claim d"
          ],
          [
           "aa1ee0f1-4a57-4a47-bf68-cdba2afe6c96",
           "G 1/13 (G130001EP1) [EN] The questions referred to the Enlarged Board of Appeal are answered as follows: 1. Where an opposition is filed by a company which subsequently, under the relevant national la"
          ],
          [
           "df6d9d55-85e3-40f4-be3e-9887ae16420d",
           "G 2/13 (G130002EP1) [EN] 1. The exclusion of essentially biological processes for the production of plants in Article 53(b) EPC does not have a negative effect on the allowability of a product claim d"
          ],
          [
           "2c795736-a758-4501-bfdd-afa60b5156c0",
           "G 1/14 (G140001EP1) [EN] 1. If a board of appeal refers a point of law to the Enlarged Board under Article 112(1)(a) EPC, it is primarily up to the former to explain, in its referral decision, that  "
          ],
          [
           "ff70be0f-d6ab-42ba-bc1c-698f25c1e641",
           "G 3/14 (G140003EP1) [EN] In considering whether, for the purposes of Article 101(3) EPC, a patent as amended meets the requirements of the EPC, the claims of the patent may be examined for compliance "
          ],
          [
           "e821b988-33ec-4bc8-afb6-c7de5a590aee",
           "G 1/15 (G150001EP1) [EN] Under the EPC, entitlement to partial priority may not be refused for a claim encompassing alternative subject-matter by virtue of one or more generic expressions or otherwise"
          ],
          [
           "23226250-681a-4d05-917a-60776f6f743c",
           "G 2301/15 (G152301EU1) [EN] 1. The law-making bodies have so shaped the proceedings for a decision for a proposal under Article 23(1) EPC that they take proper judicial form. The arrangements laid dow"
          ],
          [
           "f1c7ca60-f85d-445a-adb2-184f7149af83",
           "G 1/16 (G160001EP1) [EN] For the purpose of considering whether a claim amended by the introduction of an undisclosed disclaimer is allowable under Article 123(2) EPC, the disclaimer must fulfil one o"
          ],
          [
           "87c16e8e-5e9f-4cda-aabb-60f895fc63e8",
           "G 2301/16 (G162301EU1) [EN] For the Enlarged Board to be able to continue with these proceedings the position of the Petitioner would have to be that it did not agree with the Office President and ack"
          ],
          [
           "43c9371f-8f59-4aeb-8d74-e0ed2f108f7d",
           "G 1/18 (G180001EP1) [EN] 1. An appeal is deemed not to have been filed in the following cases: (a) where notice of appeal was filed within the two-month time limit prescribed in Article 108, first sen"
          ],
          [
           "818e5aed-fc59-4959-817c-55c8a1eb4806",
           "G 1/19 (G190001EX1) [EN] A computer-implemented simulation of a technical system or process that is claimed as such can, for the purpose of assessing inventive step, solve a technical problem by produ"
          ],
          [
           "4f0012b6-1824-4dbc-af00-1a623d28ce5a",
           "G 2/19 (G190002EP1) [EN] 1. A third party within the meaning of Article 115 EPC who has filed an appeal against a decision to grant a European patent has no right to have its request for an order that"
          ],
          [
           "51000deb-0c45-4830-9217-d184df925636",
           "G 3/19 (G190003EP1) [EN] Taking into account developments after decisions G 2/12 and G 2/13 of the Enlarged Board of Appeal, the exception to patentability of essentially biological processes for the "
          ],
          [
           "333c95f1-247d-4ca8-994e-d07ee0ba0e66",
           "G 4/19 (G190004EX1) [EN] 1. A European patent application can be refused under Articles 97(2) and 125 EPC if it claims the same subject-matter as a European patent which has been granted to the same a"
          ],
          [
           "6f02a668-8435-43f4-9fc2-c317f6001a27",
           "G 1/21 (G210001EX3) [EN] During a general emergency impairing the parties' possibilities to attend in-person oral proceedings at the EPO premises, the conduct of oral proceedings before the boards of "
          ],
          [
           "9783a1d6-d4dd-41a2-b2ff-abe60fbdc173",
           "G 2/21 (G210002EU1) [EN] I. Evidence submitted by a patent applicant or proprietor to prove a technical effect relied upon for acknowledgement of inventive step of the claimed subject-matter may not b"
          ],
          [
           "520a58ad-b08f-4f45-a9c4-e639756d33ee",
           "G 1/22 (G220001EU1) [EN] I. The European Patent Office is competent to assess whether a party is entitled to claim priority under Article 87(1) EPC. There is a rebuttable presumption under the autonom"
          ],
          [
           "796918b6-c861-4479-8499-37eb2c80fdf5",
           "G 1/83 (G830001EP1) [EN] I. A European Patent with claims directed to the use may not be granted for the use of a substance or composition for the treatment of the human or animal body by therapy. II."
          ],
          [
           "595c83ff-c7f7-4633-8099-a524f0d4b21e",
           "G 5/83 (G830005EP1) [EN] I. A European Patent with claims directed to the use may not be granted for the use of a substance or composition for the treatment of the human or animal body by therapy. II."
          ],
          [
           "0203cfed-6d4f-46c5-9e25-4e16ae4e1f6c",
           "G 1/84 (G840001EP1) [EN] A notice of opposition against a European patent is not inadmissible merely because it has been filed by the proprietor of that patent."
          ],
          [
           "4c0379e9-9edc-4128-9818-b4d29608749a",
           "G 1/86 (G860001EP1) [EN] Article 122 EPC is not to be interpreted as being applicable only to the applicant and patent proprietor. An appellant as opponent may have his rights re-established under Art"
          ],
          [
           "0dd47764-8e90-4e24-b019-48e39e197399",
           "G 1/88 (G880001EP1) [EN] The fact that an opponent has failed, within the time allowed, to make any observations on the text in which it is intended to maintain the European patent after being invited"
          ],
          [
           "3e83d979-0afd-452e-8f7a-7c5f59a62d59",
           "G 2/88 (G880002EP1) [EN] I. A change of category of granted claims in opposition proceedings is not open to objection under Article 123(3) EPC, if it does not result in extension of the protection con"
          ],
          [
           "75a3eb73-f438-4c66-a92c-1041b99d55e8",
           "G 4/88 (G880004EP1) [EN] An opposition pending before the European Patent Office may be transferred or assigned to a third party as part of the opponent's business assets together with the assets in t"
          ],
          [
           "da57ed69-d13b-4190-b29d-3438ab3e8306",
           "G 5/88 (G880005EP1) [EN] 1. The capacity of the President of the European Patent Office to represent the European Patent Organisation by virtue of Article 5(3) EPC is one of his functions but is not o"
          ],
          [
           "42c6162e-e310-4bbe-ad34-97085101f4ec",
           "G 6/88 (G880006EP1) [EN] A claim to the use of a known compound for a particular purpose, which is based on a technical effect which is described in the patent, should be interpreted as including that"
          ],
          [
           "634b598f-56a5-487b-9ac9-9e937deda118",
           "G 1/89 (G890001EP1) [EN] The agreement between the European Patent Organisation and WIPO dated 7 October 1987, including the obligation under its Article 2 for the EPO to be guided by the PCT guidelin"
          ],
          [
           "a970f03f-14a4-41e6-9016-45d7b2a9f5ff",
           "G 2/89 (G890002EP1) [EN] The EPO in its function as an ISA may, pursuant to Article 17(3)(a) PCT, request a further search fee where the international application is considered to lack unity of invent"
          ],
          [
           "1aa93cf3-60d0-4a46-b3b6-eea5e9e0494e",
           "G 3/89 (G890003EP1) [EN] 1. The parts of a European patent application or of a European patent relating to the disclosure (the description, claims and drawings) may be corrected under Rule 88, second "
          ],
          [
           "75d90364-fbef-47b8-b417-e73f7b2f73fe",
           "G 1/90 (G900001EP1) [EN] The revocation of a patent under Article 102(4) and (5) EPC requires a decision."
          ],
          [
           "48ea3e80-f77c-4636-8e2a-e3d334dff52f",
           "G 2/90 (G900002EP1) [EN] 1. Under Article 21(3)(c) EPC, the Legal Board of Appeal is competent only to hear appeals against decisions taken by an Examining Division consisting of fewer than four membe"
          ],
          [
           "54468e96-e1ba-426e-b79c-056f8a45f965",
           "G 1/91 (G910001EP1) [EN] Unity of invention (Article 82 EPC) does not come under the requirements that a European patent and the invention to which it relates must meet under Article 102(3) EPC when t"
          ],
          [
           "e7a4f1e4-792b-438a-a894-d66b69fec178",
           "G 2/91 (G910002EP1) [EN] 1. A person who is entitled to appeal but does not do so and instead confines himself to being a party to the appeal proceedings under Article 107, second sentence, EPC, has n"
          ],
          [
           "e946a185-b80b-41b1-820f-51a50f127ea9",
           "G 3/91 (G910003EP1) [EN] Article 122(5) EPC is applicable both to the time limits provided for in Articles 78(2) and 79(2) EPC and to those provided for in Rule 104b(1)(b) and (c) EPC in conjunction w"
          ],
          [
           "af9fb874-28aa-4583-95c2-2e07614d106c",
           "G 4/91 (G910004EP1) [EN] I. It is a prerequisite for intervention in opposition proceedings by an assumed infringer pursuant to Article 105 EPC that there are opposition proceedings in existence at th"
          ],
          [
           "6a30d245-babd-4ea7-b671-faf4a368b808",
           "G 5/91 (G910005EP1) [EN] 1. Although Article 24 EPC applies only to members of the Boards of Appeal and of the Enlarged Board of Appeal, the requirement of impartiality applies in principle also to em"
          ],
          [
           "4beea8cb-63f0-4808-b74d-a6ead68248e2",
           "G 6/91 (G910006EP1) [EN] 1. The persons referred to in Article 14(2) EPC are entitled to the fee reduction under Rule 6(3) EPC if they file the essential item of the first act in filing, examination o"
          ],
          [
           "9122357e-0d31-4982-a451-bb67ba712620",
           "G 7/91 (G910007EP1) [EN] In so far as the substantive issues settled by the contested decision at first instance are concerned, a Board of Appeal may not continue opposition appeal proceedings after t"
          ],
          [
           "cc9560ee-3f6b-4737-a5b7-c2393f8e6de0",
           "G 8/91 (G910008EP1) [EN] In so far as the substantive issues settled by the contested decision at first instance are concerned, appeal proceedings are terminated, in ex parte and inter partes proceedi"
          ],
          [
           "c37e22bd-d536-40e7-b597-16294a7babee",
           "G 9/91 (G910009EP1) [EN] The power of an Opposition Division or a Board of Appeal to examine and decide on the maintenance of a European patent under Articles 101 and 102 EPC depends upon the extent t"
          ],
          [
           "6fc65268-390e-4e57-8d0c-0fd3d9993c15",
           "G 10/91 (G910010EP1) [EN] 1. An Opposition Division or a Board of Appeal is not obliged to consider all the grounds for opposition referred to in Article 100 EPC, going beyond the grounds covered by t"
          ],
          [
           "9d4df2f3-36cc-490f-8fe2-901582d05bae",
           "G 10/91 (G910010EX1) [EN] 1. An Opposition Division or a Board of Appeal is not obliged to consider all the grounds for opposition referred to in Article 100 EPC, going beyond the grounds covered by t"
          ],
          [
           "526f033e-5510-4857-8870-7c5b60901ec1",
           "G 12/91 (G910012EP1) [EN] The decision-making process following written proceedings is completed on the date the decision to be notified is handed over to the EPO postal service by the decision-taking"
          ],
          [
           "b130c677-bc1b-4fba-97d9-c27cda1877d9",
           "G 1/92 (G920001EP1) [EN] 1. The chemical composition of a product is state of the art when the product as such is available to the public and can be analysed and reproduced by the skilled person, irre"
          ],
          [
           "e66a4472-026e-4e9e-8f39-2dbb0c3623fa",
           "G 2/92 (G920002EP1) [EN] An applicant who fails to pay the further search fees for a non-unitary application when requested to do so by the Search Division under Rule 46(1) EPC cannot pursue that appl"
          ],
          [
           "2d278b5c-2e61-4395-86c9-460b1bc8d458",
           "G 3/92 (G920003EP1) [EN] When it has been adjudged by a final decision of a national court that a person other than the applicant is entitled to the grant of a European patent, and that person, in com"
          ],
          [
           "e20a2924-f410-4573-86a2-0aece8e32100",
           "G 4/92 (G920004EP1) [EN] 1. A decision against a party who has been duly summoned but who fails to appear at oral proceedings may not be based on facts put forward for the first time during those oral"
          ],
          [
           "d915b9c7-acca-42f9-806d-31b42e223d57",
           "G 5/92 (G920005EP1) [EN] The time limit under Article 94, paragraph 2, EPC is excluded from the restitutio in integrum by the provisions of paragraph 5 of Article 122 EPC."
          ],
          [
           "a23d673f-2fff-4281-9c5d-ec3375225993",
           "G 9/92 (G920009EP1) [EN] 1. If the patent proprietor is the sole appellant against an interlocutory decision maintaining a patent in amended form, neither the Board of Appeal nor the non-appealing opp"
          ],
          [
           "2f8deae4-cc16-4f9a-8cc7-6167f9ec4ed6",
           "G 10/92 (G920010EP1) [EN] Under the amended version of Rule 25 EPC in force since 1 October 1988 an applicant may only file a divisional application on the pending earlier European patent application "
          ],
          [
           "e36d4899-c9c0-4b00-b632-c965d78ef7ca",
           "G 1/93 (G930001EP1) [EN] 1. If a European patent as granted contains subject-matter which extends beyond the content of the application as filed within the meaning of Article 123(2) EPC and which also"
          ],
          [
           "77ec4897-6363-47c1-83b2-b1f9e384b689",
           "G 1/93 (G930001EX1) [EN] 1. If a European patent as granted contains subject-matter which extends beyond the content of the application as filed in the sense of Article 123(2) EPC and which also limit"
          ],
          [
           "9845ebdd-483a-49f2-9ea5-f81c01da92d1",
           "G 2/93 (G930002EP1) [EN] The information concerning the file number of a culture deposit according to Rule 28(1)(c) EPC may not be submitted after expiry of the time limit set out in Rule 28(2)(a) EPC"
          ],
          [
           "1b876d0e-c637-4c72-9206-3f17c2f18341",
           "G 3/93 (G930003EP1) [EN] 1. A document published during the priority interval, the technical contents of which correspond to that of the priority document, constitutes prior art citable under Article "
          ],
          [
           "ad775cf6-37f6-4e94-a4f3-56cc53f9aa86",
           "G 4/93 (G930004EX1) [EN] I. If the patent proprietor is the sole appellant against an interlocutory decision maintaining a patent in amended form, neither the Board of Appeal nor the non-appealing opp"
          ],
          [
           "67666755-26f9-4d4b-b9a0-9a173adb4876",
           "G 5/93 (G930005EP1) [EN] The provisions of Article 122(5) EPC apply to the time limits provided for in Rule 104b(1)(b)(i) and (ii) EPC in conjunction with Articles 157(2)(b) and 158(2) EPC. This notwi"
          ],
          [
           "bf50d958-111c-404e-ba23-7baecaf44dcd",
           "G 5/93 (G930005EX1) [EN] The provisions of Article 122(5) EPC apply to the time limits provided for in Rule 104b(1)(b) (i) and (ii) EPC in conjunction with Articles 157(2)(b) and 158(2) EPC. This noth"
          ],
          [
           "0e7616dc-92e8-43bb-9523-5bfdc06cf04d",
           "G 7/93 (G930007EP1) [EN] 1. An approval of a notified text submitted by an applicant pursuant to Rule 51(4) EPC does not become binding once a communication in accordance with Rule 51(6) EPC has been "
          ],
          [
           "de338c2e-66a9-417e-bbb3-4962a17983b1",
           "G 7/93 (G930007EX1) [EN] I. An approval of a notified text submitted by an applicant pursuant to Rule 51(4) EPC does not become binding once a communication in accordance with Rule 51(6) EPC has been "
          ],
          [
           "6ae3f3d7-8a6f-4916-95aa-2f2bd022d663",
           "G 8/93 (G930008EP1) [EN] The filing by an opponent, who is sole appellant, of a statement withdrawing his opposition immediately and automatically terminates the appeal proceedings, irrespective of wh"
          ],
          [
           "b8037c0a-0a09-4c43-b3b8-5642431f830e",
           "G 9/93 (G930009EP1) [EN] A European patent cannot be opposed by its own proprietor (overturns ruling in G 1/84)."
          ],
          [
           "b6e523c6-3cbd-4fa6-9fc0-99adae2bfb17",
           "G 10/93 (G930010EP1) [EN] In an appeal from a decision of an examining division in which a European patent application was refused the board of appeal has the power to examine whether the application "
          ],
          [
           "179deaa4-4993-4144-9af7-529c24cb98f8",
           "G 1/94 (G940001EP1) [EN] Intervention of the assumed infringer under Article 105 EPC is admissible during pending appeal proceedings and may be based on any ground for opposition under Article 100 EPC"
          ],
          [
           "18e4d175-da6b-4774-ba4e-b5f8806085de",
           "G 2/94 (G940002EP1) [EN] 1. A board of appeal has a discretion to allow an accompanying person (who is not entitled under Article 134(1) or (7) EPC to represent parties to proceedings before the EPO) "
          ],
          [
           "f39d6e28-82a6-4427-ba2e-8c22c1d85383",
           "G 1/95 (G950001EP1) [EN] In a case where a patent has been opposed on the grounds set out in Article 100(a) EPC, but the opposition has only been substantiated on the grounds of lack of novelty and la"
          ],
          [
           "f7d1405c-4a3b-4f52-92b9-2ec207079a29",
           "G 1/95 (G950001EX1) [EN] In a case where a patent has been opposed on the grounds set out in Article 100(a) EPC, but the opposition has only been substantiated on the grounds of lack of novelty and la"
          ],
          [
           "133ce6b1-2158-4494-a23e-e352bf719085",
           "G 2/95 (G950002EP1) [EN] The point of law referred to the Enlarged Board of Appeal is to be answered as follows: The complete documents forming a European patent application, that is the description, "
          ],
          [
           "0ef9a1f1-d23e-4932-a412-359132df410d",
           "G 3/95 (G950003EP1) [EN] 1. In decision T 356/93 (OJ EPO 1995, 545) it was held that a claim defining genetically modified plants having a distinct, stable, herbicide-resistance genetic characteristic"
          ],
          [
           "28fb135d-225a-41ce-bde2-7eb43efbd220",
           "G 3/95 (G950003EX1) [EN] 1. In Decision T 356/93 (OJ EPO 1995, 545) it was held that a claim defining genetically modified plants having a distinct, stable, herbicide-resistance genetic characteristic"
          ],
          [
           "7ab7d0e7-2c28-4cc8-9e70-2e0ffe045fc7",
           "G 4/95 (G950004EP1) [EN] 1. During oral proceedings under Article 116 EPC in the context of opposition or opposition appeal proceedings, a person accompanying the professional representative of a part"
          ],
          [
           "6dee2f1f-3307-4586-8d5e-5dcf705688d4",
           "G 4/95 (G950004EX1) [EN] I. During oral proceedings under Article 116 EPC in the context of opposition or opposition appeal proceedings, a person accompanying the professional representative of a part"
          ],
          [
           "dcc26aff-9621-4afa-95bf-f4faacd279a5",
           "G 6/95 (G950006EP1) [EN] Rule 71a(1) EPC does not apply to the boards of appeal."
          ],
          [
           "71d2db14-38d6-4c0b-b374-644516923b5f",
           "G 6/95 (G950006EX1) [EN] Rule 71a(1) EPC does not apply to the Boards of Appeal."
          ],
          [
           "c2124688-44f0-4e6d-9a9c-ce550367143a",
           "G 7/95 (G950007EP1) [EN] In a case where a patent has been opposed under Article 100(a) EPC on the ground that the claims lack an inventive step in view of documents cited in the notice of opposition,"
          ],
          [
           "1273b3a6-5240-4fc0-9560-8e28cfa5699c",
           "G 7/95 (G950007EX1) [EN] In a case where a patent has been opposed under Article 100(a) EPC on the ground that the claims lack an inventive step in view of documents cited in the notice of opposition,"
          ],
          [
           "d24d9452-f0d9-4064-a02e-4fefeb00d4f4",
           "G 8/95 (G950008EP1) [EN] An appeal from a decision of an Examining Division refusing a request under Rule 89 EPC for correction of the decision to grant is to be decided by a technical board of Appeal"
          ],
          [
           "04a94889-56a2-4a27-b1a0-45ce8560ae0f",
           "G 8/95 (G950008EX1) [EN] An appeal from a decision of an Examining Division refusing a request under Rule 89 EPC for correction of the decision to grant is to be decided by a Technical Board of Appeal"
          ],
          [
           "2f52000f-2986-4f1e-9c72-24ab6edced4b",
           "G 1/97 (G970001EP1) [EN] I. In the context of the European Patent Convention, the jurisdictional measure to be taken in response to requests based on the alleged violation of a fundamental procedural "
          ],
          [
           "b526e17a-a227-4ea7-8e10-b1d54a632087",
           "G 2/97 (G970002EP1) [EN] The principle of good faith does not impose any obligation on the boards of appeal to notify an appellant that an appeal fee is missing when the notice of appeal is filed so e"
          ],
          [
           "1a9226ce-82c4-4dab-89ec-047b4d243895",
           "G 2/97 (G970002EX1) [EN] The principle of good faith does not impose any obligation on the boards of appeal to notify an appellant that an appeal fee is missing when the notice of appeal is filed so e"
          ],
          [
           "c46e6863-a454-4bea-a14a-4a5007b38e02",
           "G 3/97 (G970003EP1) [EN] 1(a): An opposition is not inadmissible purely because the person named as opponent according to Rule 55(a) EPC is acting on behalf of a third party. 1(b): Such an opposition "
          ],
          [
           "8ad8aa09-9c03-4e70-9960-fad0c6ea499f",
           "G 4/97 (G970004EP1) [EN] 1(a): An opposition is not inadmissible purely because the person named as opponent according to Rule 55(a) EPC is acting on behalf of a third party. 1(b): Such an opposition "
          ],
          [
           "a9005502-b83b-4066-9158-222cfca13a6c",
           "G 1/98 (G980001EP1) [EN] I. A claim wherein specific plant varieties are not individually claimed is not excluded from patentability under Article 53(b) EPC even though it may embrace plant varieties."
          ],
          [
           "0876e5dc-45f9-4cce-b121-bdcc617bba6d",
           "G 1/98 (G980001EX1) [EN] I. A claim wherein specific plant varieties are not individually claimed is not excluded from patentability under Article 53(b), EPC even though it may embrace plant varieties"
          ],
          [
           "7612c2a2-1313-4dc0-95dc-b08b007504b1",
           "G 2/98 (G980002EP1) [EN] The requirement for claiming priority of \"the same invention\", referred to in Article 87(1) EPC, means that priority of a previous application in respect of a claim in a Europ"
          ],
          [
           "27782631-c533-462f-bc27-012b07cd90a8",
           "G 3/98 (G980003EP1) [EN] For the calculation of the six-month period referred to in Article 55(1) EPC, the relevant date is the date of the actual filing of the European patent application; the date o"
          ],
          [
           "59efb089-75d4-4874-8486-41c9baccade9",
           "G 4/98 (G980004EP1) [EN] I. Without prejudice to Article 67(4) EPC, the designation of a contracting state party to the EPC in a European patent application does not retroactively lose its legal effec"
          ],
          [
           "5d2c59e9-9180-4d6b-8132-e607fff216bf",
           "G 4/98 (G980004EX1) [EN] I. Without prejudice to Article 67(4) EPC, the designation of a Contracting State party to the EPC in a European patent application does not retroactively lose its legal effec"
          ],
          [
           "69f9a653-9a35-4868-807b-6ebdfc668f65",
           "G 1/99 (G990001EP1) [EN] In principle, an amended claim, which would put the opponent and sole appellant in a worse situation than if it had not appealed, must be rejected. However, an exception to th"
          ],
          [
           "3f1bfb07-3b52-4320-ba03-1ce0b94aecc1",
           "G 3/99 (G990003EP1) [EN] I. An opposition filed in common by two or more persons, which otherwise meets the requirements of Article 99 EPC and Rules 1 and 55 EPC, is admissible on payment of only one "
          ],
          [
           "f1a6d356-9312-4dc3-b7c9-f8909095e92b",
           "G 3/99 (G990003EX1) [EN] 1. An opposition filed in common by two or more persons, which otherwise meets the requirements of Article 99 EPC and Rules 1 and 55 EPC, is admissible on payment of only one "
          ],
          [
           "850b12f4-2158-4ecd-9e52-4ab68345c152",
           "G 1/02 (G020001EP1) [EN] Points 4 and 6 of the Notice from the Vice-President Directorate-General 2 dated 28 April 1999 (OJ EPO 1999, 506) do not conflict with provisions of a higher level."
          ],
          [
           "46ca665e-7159-4ade-a177-a02ee96550ad",
           "G 2/02 (G020002EP1) [EN] The TRIPS Agreement does not entitle the applicant for a European patent application to claim priority from a first filing in a state which was not at the relevant dates a mem"
          ],
          [
           "06fcf68b-b624-4d1c-bc3b-b00cf3900eda",
           "G 2/02 (G020002EX1) [EN] The TRIPs Agreement does not entitle the applicant for a European patent application to claim priority from a first filing in a State which was not at the relevant dates a mem"
          ],
          [
           "c4b93c11-5976-4c23-9853-f6793cbbcf75",
           "G 1/03 (G030001EP1) [EN] I. An amendment to a claim by the introduction of a disclaimer may not be refused under Article 123(2) EPC for the sole reason that neither the disclaimer nor the subject-matt"
          ],
          [
           "23f26ca3-1311-4af6-a57f-8938143a1c68",
           "G 1/03 (G030001EX1) [EN] 1. An amendment to a claim by the introduction of a disclaimer may not be refused under Article 123(2) EPC for the sole reason that neither the disclaimer nor the subject-matt"
          ],
          [
           "0a649496-1ced-48a4-8440-671942898786",
           "G 3/03 (G030003EP1) [EN] I. In the event of interlocutory revision under Article 109(1) EPC, the department of the first instance whose decision has been appealed is not competent to refuse a request "
          ],
          [
           "ef4d577c-df30-48c5-a10f-d9a595dc5235",
           "G 3/03 (G030003EX1) [EN] 1.In the event of interlocutory revision under Article 109(1) EPC, the department of the first instance whose decision has been appealed is not competent to refuse a request o"
          ],
          [
           "414ae697-4e05-4d24-86a7-8f4dc1009abc",
           "G 1/04 (G040001EP1) [EN] I. In order that the subject-matter of a claim relating to a diagnostic method practised on the human or animal body falls under the prohibition of Article 52(4) EPC, the clai"
          ],
          [
           "c7a958bb-ed16-44b7-9eb6-0165c32a80cf",
           "G 1/04 (G040001EX1) [EN] 1. In order that the subject-matter of a claim relating to a diagnostic method practised on the human or animal body falls under the prohibition of Article 52(4) EPC, the clai"
          ],
          [
           "f8aecf40-32ff-4878-b17c-b7cd55af970a",
           "G 2/04 (G040002EP1) [EN] I. (a) The status as an opponent cannot be freely transferred. (b) A legal person who was a subsidiary of the opponent when the opposition was filed and who carries on the bus"
          ],
          [
           "3abc00c4-e61b-4866-a4c9-f5832db041d8",
           "G 2/04 (G040002EX1) [EN] (see Order)"
          ],
          [
           "e04e91fc-a1e1-46ad-b02f-3ff56503a064",
           "G 3/04 (G040003EP1) [EN] After withdrawal of the sole appeal, the proceedings may not be continued with a third party who intervened during the appeal proceedings."
          ],
          [
           "2a037555-8ff3-4570-a342-6b385eb1eb6d",
           "G 1/05 (G050001EP1) [EN] I. If a member of a Board of Appeal in a notice of withdrawal gives a ground which may by its nature constitute a possible ground for an objection of partiality that ground sh"
          ],
          [
           "27a6eea4-0f78-4435-9a54-6d1e835e2f5e",
           "G 1/05 (G050001EP2) [EN] So far as Article 76(1) EPC is concerned, a divisional application which at its actual date of filing contains subject-matter extending beyond the content of the earlier appli"
          ],
          [
           "66021f13-9acd-4ec0-b9e1-82e97a35e190",
           "G 1/05 (G050001EX2) [EN] So far as Article 76(1) EPC is concerned, a divisional application which at its actual date of filing contains subject- matter extending beyond the content of the earlier appl"
          ],
          [
           "f3d1f5b1-ed8c-4f0c-a690-4aa75aadbf2d",
           "G 1/06 (G060001EP1) [EN] In the case of a sequence of applications consisting of a root (originating) application followed by divisional applications, each divided from its predecessor, it is a necess"
          ],
          [
           "a30892bf-eaa7-4294-be17-2c4b8ba3a6e4",
           "G 1/06 (G060001EX1) [EN] In the case of a sequence of applications consisting of a root (originating) application followed by divisional applications, each divided from its predecessor, it is a necess"
          ],
          [
           "7e6fb1dd-7f19-4895-b320-aae8f8da8d21",
           "G 2/06 (G060002EP1) [EN] 1. The request for a preliminary ruling by the European Court of Justice on the questions suggested is rejected as inadmissible. 2. The questions referred to the Enlarged Boar"
          ],
          [
           "8039c3c6-5cdb-4376-81e7-1f975d377adb",
           "G 2/06 (G060002EX1) [EN] 1. The request for a preliminary ruling by the European Court of Justice on the questions suggested is rejected as inadmissible. 2. The questions referred to the Enlarged Boar"
          ],
          [
           "0997c7d0-219c-4392-8c90-4736e311f341",
           "G 1/07 (G070001EP1) [EN] The questions referred to the Enlarged Board of Appeal are answered as follows: 1. A claimed imaging method, in which, when carried out, maintaining the life and health of the"
          ],
          [
           "ea116d40-da9e-4dff-98f0-2f7062e33581",
           "G 2/07 (G070002EP1) [EN] The questions of law referred to the Enlarged Board of Appeal are answered as follows: 1. A non-microbiological process for the production of plants which contains or consists"
          ],
          [
           "60c5fc3d-b8a2-4a07-bf82-00ff76edc4bf",
           "G 2/08 (G080002EP1) [EN] The questions referred to the Enlarged Board of Appeal are answered as follows: Question 1: Where it is already known to use a medicament to treat an illness, Article 54(5) EP"
          ],
          [
           "6a514481-ebe6-4575-9006-695c161286b9",
           "G 3/08 (G080003EX1) [EN] 1. In exercising his or her right of referral a President of the EPO is entitled to make full use of the discretion granted by Article 112 (1) (b) EPC, even if his or her appr"
          ],
          [
           "dd7efdb2-a8be-4922-b14f-660f6aa5c328",
           "G 4/08 (G080004EP1) [EN] The Enlarged Board of Appeal, in response to the three points of law referred to it, concludes that: Question 1: If an international patent application has been filed and publ"
          ],
          [
           "b1ec9c7c-57d4-4b60-9b6e-2da2ee236c29",
           "G 1/09 (G090001EP1) [EN] In the case where no appeal is filed, a European Patent application which has been refused by a decision of the Examining Division is thereafter still pending within the meani"
          ],
          [
           "fe7b7ba8-b7bc-4b65-834a-8a95dba359dc",
           "G 1/10 (G100001EP1) [EN] The questions referred to the Enlarged Board of Appeal are answered as follows: 1. Since Rule 140 EPC is not available to correct the text of a patent, a patent proprietor's r"
          ],
          [
           "aed5e04b-9fc1-4cc4-9c6f-fb88326db2bf",
           "G 2/10 (G100002EP1) [EN] The question referred to the Enlarged Board of Appeal is answered as follows: 1a. An amendment to a claim by the introduction of a disclaimer disclaiming from it subject-matte"
          ],
          [
           "f06b825d-1ff7-4321-84c6-4e54367ec27b",
           "G 1/11 (G110001EP1) [EN] A technical board of appeal is competent to hear an appeal against an EPO examining division's decision  taken separately from its decision granting a patent or refusing the "
          ],
          [
           "8fb79b08-9d1e-43fd-87b3-34fff9dfd783",
           "G 1/12 (G120001EP1) [EN] The questions referred to the Enlarged Board of Appeal are answered as follows: Question (1): The answer to reformulated question (1) - namely whether when a notice of appeal,"
          ],
          [
           "f44df883-a77d-452c-9dc2-fe80d91ff639",
           "G 2/12 (G120002EP1) [EN] 1. The exclusion of essentially biological processes for the production of plants in Article 53(b) EPC does not have a negative effect on the allowability of a product claim d"
          ],
          [
           "7ebced04-bbbc-49a2-917c-aec8d9206d5f",
           "G 1/13 (G130001EP1) [EN] The questions referred to the Enlarged Board of Appeal are answered as follows: 1. Where an opposition is filed by a company which subsequently, under the relevant national la"
          ],
          [
           "c6c276c3-59d8-4885-8a14-04c54a1ace11",
           "G 2/13 (G130002EP1) [EN] 1. The exclusion of essentially biological processes for the production of plants in Article 53(b) EPC does not have a negative effect on the allowability of a product claim d"
          ],
          [
           "b20e003a-a56f-48c0-b715-0f3ee6b567a1",
           "G 1/14 (G140001EP1) [EN] 1. If a board of appeal refers a point of law to the Enlarged Board under Article 112(1)(a) EPC, it is primarily up to the former to explain, in its referral decision, that  "
          ],
          [
           "fd48f7a8-328f-4454-9e43-4e2e5aed5f57",
           "G 3/14 (G140003EP1) [EN] In considering whether, for the purposes of Article 101(3) EPC, a patent as amended meets the requirements of the EPC, the claims of the patent may be examined for compliance "
          ],
          [
           "c842c44c-16b2-4ee8-b1c2-dc11370ddc42",
           "G 1/15 (G150001EP1) [EN] Under the EPC, entitlement to partial priority may not be refused for a claim encompassing alternative subject-matter by virtue of one or more generic expressions or otherwise"
          ],
          [
           "bb0d1f91-6694-4e46-b5d9-25ca20f7e719",
           "G 2301/15 (G152301EU1) [EN] 1. The law-making bodies have so shaped the proceedings for a decision for a proposal under Article 23(1) EPC that they take proper judicial form. The arrangements laid dow"
          ],
          [
           "041536ef-c05b-4d7d-ae95-5322f590887a",
           "G 1/16 (G160001EP1) [EN] For the purpose of considering whether a claim amended by the introduction of an undisclosed disclaimer is allowable under Article 123(2) EPC, the disclaimer must fulfil one o"
          ],
          [
           "78b10489-874f-45e9-b360-8972417d256d",
           "G 2301/16 (G162301EU1) [EN] For the Enlarged Board to be able to continue with these proceedings the position of the Petitioner would have to be that it did not agree with the Office President and ack"
          ],
          [
           "50edb3a2-6e60-419d-975f-e6494b492351",
           "G 1/18 (G180001EP1) [EN] 1. An appeal is deemed not to have been filed in the following cases: (a) where notice of appeal was filed within the two-month time limit prescribed in Article 108, first sen"
          ],
          [
           "cacdf326-402d-44a0-b21c-b23b16d278b3",
           "G 1/19 (G190001EX1) [EN] A computer-implemented simulation of a technical system or process that is claimed as such can, for the purpose of assessing inventive step, solve a technical problem by produ"
          ],
          [
           "be6e7481-e71a-4679-b60c-f92fbd6d4150",
           "G 2/19 (G190002EP1) [EN] 1. A third party within the meaning of Article 115 EPC who has filed an appeal against a decision to grant a European patent has no right to have its request for an order that"
          ],
          [
           "a50e815c-f68c-40f9-99c1-ed3120a9d974",
           "G 3/19 (G190003EP1) [EN] Taking into account developments after decisions G 2/12 and G 2/13 of the Enlarged Board of Appeal, the exception to patentability of essentially biological processes for the "
          ],
          [
           "30d37769-e976-4f0e-bb1d-95dc2a01ac32",
           "G 4/19 (G190004EX1) [EN] 1. A European patent application can be refused under Articles 97(2) and 125 EPC if it claims the same subject-matter as a European patent which has been granted to the same a"
          ],
          [
           "87fbfae6-06e1-45f7-8b39-0f6fb22bc73d",
           "G 1/21 (G210001EX3) [EN] During a general emergency impairing the parties' possibilities to attend in-person oral proceedings at the EPO premises, the conduct of oral proceedings before the boards of "
          ],
          [
           "93602640-9857-4c4a-b7b1-9c31251e7ca3",
           "G 2/21 (G210002EU1) [EN] I. Evidence submitted by a patent applicant or proprietor to prove a technical effect relied upon for acknowledgement of inventive step of the claimed subject-matter may not b"
          ],
          [
           "93c0b42f-89a2-452d-8d6e-bc77f3a89b4b",
           "G 1/22 (G220001EU1) [EN] I. The European Patent Office is competent to assess whether a party is entitled to claim priority under Article 87(1) EPC. There is a rebuttable presumption under the autonom"
          ],
          [
           "c6f8827b-bbb7-46e6-a17d-4b057fe1aab0",
           "G 1/83 (G830001EP1) [EN] I. A European Patent with claims directed to the use may not be granted for the use of a substance or composition for the treatment of the human or animal body by therapy. II."
          ],
          [
           "486b6bbf-3028-4be4-83c5-ce9302502973",
           "G 5/83 (G830005EP1) [EN] I. A European Patent with claims directed to the use may not be granted for the use of a substance or composition for the treatment of the human or animal body by therapy. II."
          ],
          [
           "b0f8d513-8873-4e61-b961-fc01e76289b3",
           "G 1/84 (G840001EP1) [EN] A notice of opposition against a European patent is not inadmissible merely because it has been filed by the proprietor of that patent."
          ],
          [
           "bec9d992-354e-4581-8140-ba2e3985f10c",
           "G 1/86 (G860001EP1) [EN] Article 122 EPC is not to be interpreted as being applicable only to the applicant and patent proprietor. An appellant as opponent may have his rights re-established under Art"
          ],
          [
           "a66e59ee-ec51-4615-9a81-060d02486895",
           "G 1/88 (G880001EP1) [EN] The fact that an opponent has failed, within the time allowed, to make any observations on the text in which it is intended to maintain the European patent after being invited"
          ],
          [
           "20b85ee1-c706-4019-b5d0-3cb223b7dca4",
           "G 2/88 (G880002EP1) [EN] I. A change of category of granted claims in opposition proceedings is not open to objection under Article 123(3) EPC, if it does not result in extension of the protection con"
          ],
          [
           "a98b9179-abe0-47ba-9374-6fdd01228672",
           "G 4/88 (G880004EP1) [EN] An opposition pending before the European Patent Office may be transferred or assigned to a third party as part of the opponent's business assets together with the assets in t"
          ],
          [
           "dbebdf58-210e-46eb-8530-0d49c07224fe",
           "G 5/88 (G880005EP1) [EN] 1. The capacity of the President of the European Patent Office to represent the European Patent Organisation by virtue of Article 5(3) EPC is one of his functions but is not o"
          ],
          [
           "a55e1619-0acd-4e57-bff3-a3344767c32a",
           "G 6/88 (G880006EP1) [EN] A claim to the use of a known compound for a particular purpose, which is based on a technical effect which is described in the patent, should be interpreted as including that"
          ],
          [
           "977ac15e-8f29-4b49-9a83-405881155f66",
           "G 1/89 (G890001EP1) [EN] The agreement between the European Patent Organisation and WIPO dated 7 October 1987, including the obligation under its Article 2 for the EPO to be guided by the PCT guidelin"
          ],
          [
           "6559fb09-5799-4bc2-8680-6703594a7246",
           "G 2/89 (G890002EP1) [EN] The EPO in its function as an ISA may, pursuant to Article 17(3)(a) PCT, request a further search fee where the international application is considered to lack unity of invent"
          ],
          [
           "e8c6d2e2-f781-42d9-a3e6-e7c1a7eb98b1",
           "G 3/89 (G890003EP1) [EN] 1. The parts of a European patent application or of a European patent relating to the disclosure (the description, claims and drawings) may be corrected under Rule 88, second "
          ],
          [
           "a866ace8-f3f2-4d6b-8fe0-a25d2ccb40ae",
           "G 1/90 (G900001EP1) [EN] The revocation of a patent under Article 102(4) and (5) EPC requires a decision."
          ],
          [
           "1e6ae942-a3de-48ce-96d0-7db9f8e73074",
           "G 2/90 (G900002EP1) [EN] 1. Under Article 21(3)(c) EPC, the Legal Board of Appeal is competent only to hear appeals against decisions taken by an Examining Division consisting of fewer than four membe"
          ],
          [
           "5e305205-8ac7-4779-8a04-19f64aea010e",
           "G 1/91 (G910001EP1) [EN] Unity of invention (Article 82 EPC) does not come under the requirements that a European patent and the invention to which it relates must meet under Article 102(3) EPC when t"
          ],
          [
           "60cb92f6-efc4-4aba-afa7-3b7112fa3b74",
           "G 2/91 (G910002EP1) [EN] 1. A person who is entitled to appeal but does not do so and instead confines himself to being a party to the appeal proceedings under Article 107, second sentence, EPC, has n"
          ],
          [
           "2b4f06c7-c672-4c1b-a416-8e37401c5c2c",
           "G 3/91 (G910003EP1) [EN] Article 122(5) EPC is applicable both to the time limits provided for in Articles 78(2) and 79(2) EPC and to those provided for in Rule 104b(1)(b) and (c) EPC in conjunction w"
          ],
          [
           "c40af34f-b42d-4ef9-9219-f1a503576750",
           "G 4/91 (G910004EP1) [EN] I. It is a prerequisite for intervention in opposition proceedings by an assumed infringer pursuant to Article 105 EPC that there are opposition proceedings in existence at th"
          ],
          [
           "ac01d922-ec66-4bee-b507-34517cab1539",
           "G 5/91 (G910005EP1) [EN] 1. Although Article 24 EPC applies only to members of the Boards of Appeal and of the Enlarged Board of Appeal, the requirement of impartiality applies in principle also to em"
          ],
          [
           "ec98c645-e70b-4e15-816e-046246758cc5",
           "G 6/91 (G910006EP1) [EN] 1. The persons referred to in Article 14(2) EPC are entitled to the fee reduction under Rule 6(3) EPC if they file the essential item of the first act in filing, examination o"
          ],
          [
           "499c5afe-4e83-43dd-897a-65dfda9b6304",
           "G 7/91 (G910007EP1) [EN] In so far as the substantive issues settled by the contested decision at first instance are concerned, a Board of Appeal may not continue opposition appeal proceedings after t"
          ],
          [
           "218d5437-0926-4e33-a7ba-7a7a367c4bc1",
           "G 8/91 (G910008EP1) [EN] In so far as the substantive issues settled by the contested decision at first instance are concerned, appeal proceedings are terminated, in ex parte and inter partes proceedi"
          ],
          [
           "d313d960-1ed8-4f3d-9fc7-48c25dbd891a",
           "G 9/91 (G910009EP1) [EN] The power of an Opposition Division or a Board of Appeal to examine and decide on the maintenance of a European patent under Articles 101 and 102 EPC depends upon the extent t"
          ],
          [
           "b3f8350d-5c71-41c1-a562-fbf48c4efd2e",
           "G 10/91 (G910010EP1) [EN] 1. An Opposition Division or a Board of Appeal is not obliged to consider all the grounds for opposition referred to in Article 100 EPC, going beyond the grounds covered by t"
          ],
          [
           "f4b3a247-ee3c-408a-afad-936d6f9d129c",
           "G 10/91 (G910010EX1) [EN] 1. An Opposition Division or a Board of Appeal is not obliged to consider all the grounds for opposition referred to in Article 100 EPC, going beyond the grounds covered by t"
          ],
          [
           "14bcda2a-3f6f-4726-8645-32551670b4c2",
           "G 12/91 (G910012EP1) [EN] The decision-making process following written proceedings is completed on the date the decision to be notified is handed over to the EPO postal service by the decision-taking"
          ],
          [
           "cb30102b-bb86-45b8-ad04-c04e93f4dc65",
           "G 1/92 (G920001EP1) [EN] 1. The chemical composition of a product is state of the art when the product as such is available to the public and can be analysed and reproduced by the skilled person, irre"
          ],
          [
           "da666bc2-4052-4b80-a190-b6fea4ed880f",
           "G 2/92 (G920002EP1) [EN] An applicant who fails to pay the further search fees for a non-unitary application when requested to do so by the Search Division under Rule 46(1) EPC cannot pursue that appl"
          ],
          [
           "07471db9-7fdd-45dc-9933-f6da71e893d2",
           "G 3/92 (G920003EP1) [EN] When it has been adjudged by a final decision of a national court that a person other than the applicant is entitled to the grant of a European patent, and that person, in com"
          ],
          [
           "0fbca145-f2b6-4e48-b5c4-5adda527cbc4",
           "G 4/92 (G920004EP1) [EN] 1. A decision against a party who has been duly summoned but who fails to appear at oral proceedings may not be based on facts put forward for the first time during those oral"
          ],
          [
           "cf3d2f05-4fec-4e34-af19-cd52170619df",
           "G 5/92 (G920005EP1) [EN] The time limit under Article 94, paragraph 2, EPC is excluded from the restitutio in integrum by the provisions of paragraph 5 of Article 122 EPC."
          ],
          [
           "3c4fd242-bc07-4256-b3fa-c19f81a73756",
           "G 9/92 (G920009EP1) [EN] 1. If the patent proprietor is the sole appellant against an interlocutory decision maintaining a patent in amended form, neither the Board of Appeal nor the non-appealing opp"
          ],
          [
           "a8aa7b4c-9159-4904-a14d-8a679f472d3a",
           "G 10/92 (G920010EP1) [EN] Under the amended version of Rule 25 EPC in force since 1 October 1988 an applicant may only file a divisional application on the pending earlier European patent application "
          ],
          [
           "618c844f-ead4-4eec-8041-a2e3a935afa6",
           "G 1/93 (G930001EP1) [EN] 1. If a European patent as granted contains subject-matter which extends beyond the content of the application as filed within the meaning of Article 123(2) EPC and which also"
          ],
          [
           "ff4a0c93-9c21-4e1e-b1e1-5f7036490438",
           "G 1/93 (G930001EX1) [EN] 1. If a European patent as granted contains subject-matter which extends beyond the content of the application as filed in the sense of Article 123(2) EPC and which also limit"
          ],
          [
           "c62350a9-9346-4c1c-8723-dc4e7f8dad2c",
           "G 2/93 (G930002EP1) [EN] The information concerning the file number of a culture deposit according to Rule 28(1)(c) EPC may not be submitted after expiry of the time limit set out in Rule 28(2)(a) EPC"
          ],
          [
           "35e1c9d4-7332-48e3-a2bc-f76aaf9b3af2",
           "G 3/93 (G930003EP1) [EN] 1. A document published during the priority interval, the technical contents of which correspond to that of the priority document, constitutes prior art citable under Article "
          ],
          [
           "f6bac01e-571d-4ff7-a1cb-13918444b786",
           "G 4/93 (G930004EX1) [EN] I. If the patent proprietor is the sole appellant against an interlocutory decision maintaining a patent in amended form, neither the Board of Appeal nor the non-appealing opp"
          ],
          [
           "35e1408e-42e2-4a78-a62f-388b8db52f1a",
           "G 5/93 (G930005EP1) [EN] The provisions of Article 122(5) EPC apply to the time limits provided for in Rule 104b(1)(b)(i) and (ii) EPC in conjunction with Articles 157(2)(b) and 158(2) EPC. This notwi"
          ],
          [
           "761fe501-7ca2-4977-8fc4-b9fb08dd5c1d",
           "G 5/93 (G930005EX1) [EN] The provisions of Article 122(5) EPC apply to the time limits provided for in Rule 104b(1)(b) (i) and (ii) EPC in conjunction with Articles 157(2)(b) and 158(2) EPC. This noth"
          ],
          [
           "dcc0224d-5e33-49a8-9b97-db9e318b8cc7",
           "G 7/93 (G930007EP1) [EN] 1. An approval of a notified text submitted by an applicant pursuant to Rule 51(4) EPC does not become binding once a communication in accordance with Rule 51(6) EPC has been "
          ],
          [
           "8866c62c-f103-4842-8cd1-c97ad8a2268b",
           "G 7/93 (G930007EX1) [EN] I. An approval of a notified text submitted by an applicant pursuant to Rule 51(4) EPC does not become binding once a communication in accordance with Rule 51(6) EPC has been "
          ],
          [
           "35a71dc5-1ef4-4f11-8478-3696450ceeeb",
           "G 8/93 (G930008EP1) [EN] The filing by an opponent, who is sole appellant, of a statement withdrawing his opposition immediately and automatically terminates the appeal proceedings, irrespective of wh"
          ],
          [
           "5ec1d822-6958-4fac-be11-f89a2eb98404",
           "G 9/93 (G930009EP1) [EN] A European patent cannot be opposed by its own proprietor (overturns ruling in G 1/84)."
          ],
          [
           "f50ae2f0-05ab-424b-a8ba-daaee1ea7415",
           "G 10/93 (G930010EP1) [EN] In an appeal from a decision of an examining division in which a European patent application was refused the board of appeal has the power to examine whether the application "
          ],
          [
           "051aa4f5-556c-4492-b910-930789288ed7",
           "G 1/94 (G940001EP1) [EN] Intervention of the assumed infringer under Article 105 EPC is admissible during pending appeal proceedings and may be based on any ground for opposition under Article 100 EPC"
          ],
          [
           "8315d4a7-2fa3-4c66-b9d7-7800487af06f",
           "G 2/94 (G940002EP1) [EN] 1. A board of appeal has a discretion to allow an accompanying person (who is not entitled under Article 134(1) or (7) EPC to represent parties to proceedings before the EPO) "
          ],
          [
           "b7789fcd-9262-49eb-bd5f-b27eae038a1b",
           "G 1/95 (G950001EP1) [EN] In a case where a patent has been opposed on the grounds set out in Article 100(a) EPC, but the opposition has only been substantiated on the grounds of lack of novelty and la"
          ],
          [
           "4e70b8a0-030d-4f76-b40c-3453f659d2fb",
           "G 1/95 (G950001EX1) [EN] In a case where a patent has been opposed on the grounds set out in Article 100(a) EPC, but the opposition has only been substantiated on the grounds of lack of novelty and la"
          ],
          [
           "34424202-a940-41e7-a1bb-5925d5c230aa",
           "G 2/95 (G950002EP1) [EN] The point of law referred to the Enlarged Board of Appeal is to be answered as follows: The complete documents forming a European patent application, that is the description, "
          ],
          [
           "70b2bb07-87a2-4e40-ab6d-8acce8e9cea4",
           "G 3/95 (G950003EP1) [EN] 1. In decision T 356/93 (OJ EPO 1995, 545) it was held that a claim defining genetically modified plants having a distinct, stable, herbicide-resistance genetic characteristic"
          ],
          [
           "9fc75cc8-924f-46a8-b780-b386e4b1c728",
           "G 3/95 (G950003EX1) [EN] 1. In Decision T 356/93 (OJ EPO 1995, 545) it was held that a claim defining genetically modified plants having a distinct, stable, herbicide-resistance genetic characteristic"
          ],
          [
           "4d477bc2-2982-4136-954b-fdb5e526002b",
           "G 4/95 (G950004EP1) [EN] 1. During oral proceedings under Article 116 EPC in the context of opposition or opposition appeal proceedings, a person accompanying the professional representative of a part"
          ],
          [
           "fa0ab81a-a731-434b-a375-373dbf497ef1",
           "G 4/95 (G950004EX1) [EN] I. During oral proceedings under Article 116 EPC in the context of opposition or opposition appeal proceedings, a person accompanying the professional representative of a part"
          ],
          [
           "afa397cb-26be-423b-bc17-8606638866a2",
           "G 6/95 (G950006EP1) [EN] Rule 71a(1) EPC does not apply to the boards of appeal."
          ],
          [
           "c9f7ce95-cbf8-4f51-bfe7-bfb9add81cce",
           "G 6/95 (G950006EX1) [EN] Rule 71a(1) EPC does not apply to the Boards of Appeal."
          ],
          [
           "0212385b-0327-41af-bb21-3a37188dae6f",
           "G 7/95 (G950007EP1) [EN] In a case where a patent has been opposed under Article 100(a) EPC on the ground that the claims lack an inventive step in view of documents cited in the notice of opposition,"
          ],
          [
           "0127d13e-dfe4-4e13-ae27-00801aedf285",
           "G 7/95 (G950007EX1) [EN] In a case where a patent has been opposed under Article 100(a) EPC on the ground that the claims lack an inventive step in view of documents cited in the notice of opposition,"
          ],
          [
           "54957b83-33ba-4189-990d-075cf3bc7892",
           "G 8/95 (G950008EP1) [EN] An appeal from a decision of an Examining Division refusing a request under Rule 89 EPC for correction of the decision to grant is to be decided by a technical board of Appeal"
          ],
          [
           "f8b05c30-38c4-4962-b492-04757f3d25c7",
           "G 8/95 (G950008EX1) [EN] An appeal from a decision of an Examining Division refusing a request under Rule 89 EPC for correction of the decision to grant is to be decided by a Technical Board of Appeal"
          ],
          [
           "73ff6fec-53ce-4aea-aa6a-faea338e13b2",
           "G 1/97 (G970001EP1) [EN] I. In the context of the European Patent Convention, the jurisdictional measure to be taken in response to requests based on the alleged violation of a fundamental procedural "
          ],
          [
           "ffb8a374-9e74-4075-b550-84d98c00650a",
           "G 2/97 (G970002EP1) [EN] The principle of good faith does not impose any obligation on the boards of appeal to notify an appellant that an appeal fee is missing when the notice of appeal is filed so e"
          ],
          [
           "0a4d559e-b808-48fd-80b6-940bf76e5169",
           "G 2/97 (G970002EX1) [EN] The principle of good faith does not impose any obligation on the boards of appeal to notify an appellant that an appeal fee is missing when the notice of appeal is filed so e"
          ],
          [
           "1462a3e3-61ce-43f2-af3c-c214d247ae38",
           "G 3/97 (G970003EP1) [EN] 1(a): An opposition is not inadmissible purely because the person named as opponent according to Rule 55(a) EPC is acting on behalf of a third party. 1(b): Such an opposition "
          ],
          [
           "d061c8e2-1242-4ce5-8ab5-b688bf5db33d",
           "G 4/97 (G970004EP1) [EN] 1(a): An opposition is not inadmissible purely because the person named as opponent according to Rule 55(a) EPC is acting on behalf of a third party. 1(b): Such an opposition "
          ],
          [
           "f754a32f-acd1-4aac-b52b-48fa8bf429aa",
           "G 1/98 (G980001EP1) [EN] I. A claim wherein specific plant varieties are not individually claimed is not excluded from patentability under Article 53(b) EPC even though it may embrace plant varieties."
          ],
          [
           "5ecf948a-eb94-49ff-8e6b-320953c2b95a",
           "G 1/98 (G980001EX1) [EN] I. A claim wherein specific plant varieties are not individually claimed is not excluded from patentability under Article 53(b), EPC even though it may embrace plant varieties"
          ],
          [
           "162098c6-6976-4e33-b141-9dba91014aaa",
           "G 2/98 (G980002EP1) [EN] The requirement for claiming priority of \"the same invention\", referred to in Article 87(1) EPC, means that priority of a previous application in respect of a claim in a Europ"
          ],
          [
           "3cdc0ee2-9fa8-47b7-9841-c49df9bc97a4",
           "G 3/98 (G980003EP1) [EN] For the calculation of the six-month period referred to in Article 55(1) EPC, the relevant date is the date of the actual filing of the European patent application; the date o"
          ],
          [
           "c81a06e3-1699-4ec6-b6d9-db1d164d56b0",
           "G 4/98 (G980004EP1) [EN] I. Without prejudice to Article 67(4) EPC, the designation of a contracting state party to the EPC in a European patent application does not retroactively lose its legal effec"
          ],
          [
           "fe3ac1d8-e768-4888-b13a-260aea4c8e78",
           "G 4/98 (G980004EX1) [EN] I. Without prejudice to Article 67(4) EPC, the designation of a Contracting State party to the EPC in a European patent application does not retroactively lose its legal effec"
          ],
          [
           "61a8ba77-6e65-463c-93b7-88bf2a2b01af",
           "G 1/99 (G990001EP1) [EN] In principle, an amended claim, which would put the opponent and sole appellant in a worse situation than if it had not appealed, must be rejected. However, an exception to th"
          ],
          [
           "aaa88872-3e2d-4606-a69b-3fd971a9a68d",
           "G 3/99 (G990003EP1) [EN] I. An opposition filed in common by two or more persons, which otherwise meets the requirements of Article 99 EPC and Rules 1 and 55 EPC, is admissible on payment of only one "
          ],
          [
           "4f458039-6024-42ad-beb5-4c151e34ea60",
           "G 3/99 (G990003EX1) [EN] 1. An opposition filed in common by two or more persons, which otherwise meets the requirements of Article 99 EPC and Rules 1 and 55 EPC, is admissible on payment of only one "
          ]
         ],
         "hovertemplate": "x=%{x}<br>y=%{y}<br>z=%{z}<br>id=%{customdata[0]}<br>text=%{customdata[1]}<extra></extra>",
         "legendgroup": "",
         "marker": {
          "color": "#636efa",
          "symbol": "circle"
         },
         "mode": "markers",
         "name": "",
         "scene": "scene",
         "showlegend": false,
         "type": "scatter3d",
         "x": {
          "bdata": "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",
          "dtype": "f8"
         },
         "y": {
          "bdata": "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",
          "dtype": "f8"
         },
         "z": {
          "bdata": "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",
          "dtype": "f8"
         }
        },
        {
         "mode": "text",
         "showlegend": false,
         "text": [
          "G 1/02 ",
          "G 2/02 ",
          "G 2/02 ",
          "G 1/03 ",
          "G 1/03 ",
          "G 3/03 ",
          "G 3/03 ",
          "G 1/04 ",
          "G 1/04 ",
          "G 2/04 ",
          "G 2/04 ",
          "G 3/04 ",
          "G 1/05 ",
          "G 1/05 ",
          "G 1/05 ",
          "G 1/06 ",
          "G 1/06 ",
          "G 2/06 ",
          "G 2/06 ",
          "G 1/07 ",
          "G 2/07 ",
          "G 2/08 ",
          "G 3/08 ",
          "G 4/08 ",
          "G 1/09 ",
          "G 1/10 ",
          "G 2/10 ",
          "G 1/11 ",
          "G 1/12 ",
          "G 2/12 ",
          "G 1/13 ",
          "G 2/13 ",
          "G 1/14 ",
          "G 3/14 ",
          "G 1/15 ",
          "G 2301/",
          "G 1/16 ",
          "G 2301/",
          "G 1/18 ",
          "G 1/19 ",
          "G 2/19 ",
          "G 3/19 ",
          "G 4/19 ",
          "G 1/21 ",
          "G 2/21 ",
          "G 1/22 ",
          "G 1/83 ",
          "G 5/83 ",
          "G 1/84 ",
          "G 1/86 ",
          "G 1/88 ",
          "G 2/88 ",
          "G 4/88 ",
          "G 5/88 ",
          "G 6/88 ",
          "G 1/89 ",
          "G 2/89 ",
          "G 3/89 ",
          "G 1/90 ",
          "G 2/90 ",
          "G 1/91 ",
          "G 2/91 ",
          "G 3/91 ",
          "G 4/91 ",
          "G 5/91 ",
          "G 6/91 ",
          "G 7/91 ",
          "G 8/91 ",
          "G 9/91 ",
          "G 10/91",
          "G 10/91",
          "G 12/91",
          "G 1/92 ",
          "G 2/92 ",
          "G 3/92 ",
          "G 4/92 ",
          "G 5/92 ",
          "G 9/92 ",
          "G 10/92",
          "G 1/93 ",
          "G 1/93 ",
          "G 2/93 ",
          "G 3/93 ",
          "G 4/93 ",
          "G 5/93 ",
          "G 5/93 ",
          "G 7/93 ",
          "G 7/93 ",
          "G 8/93 ",
          "G 9/93 ",
          "G 10/93",
          "G 1/94 ",
          "G 2/94 ",
          "G 1/95 ",
          "G 1/95 ",
          "G 2/95 ",
          "G 3/95 ",
          "G 3/95 ",
          "G 4/95 ",
          "G 4/95 ",
          "G 6/95 ",
          "G 6/95 ",
          "G 7/95 ",
          "G 7/95 ",
          "G 8/95 ",
          "G 8/95 ",
          "G 1/97 ",
          "G 2/97 ",
          "G 2/97 ",
          "G 3/97 ",
          "G 4/97 ",
          "G 1/98 ",
          "G 1/98 ",
          "G 2/98 ",
          "G 3/98 ",
          "G 4/98 ",
          "G 4/98 ",
          "G 1/99 ",
          "G 3/99 ",
          "G 3/99 ",
          "G 1/02 ",
          "G 2/02 ",
          "G 2/02 ",
          "G 1/03 ",
          "G 1/03 ",
          "G 3/03 ",
          "G 3/03 ",
          "G 1/04 ",
          "G 1/04 ",
          "G 2/04 ",
          "G 2/04 ",
          "G 3/04 ",
          "G 1/05 ",
          "G 1/05 ",
          "G 1/05 ",
          "G 1/06 ",
          "G 1/06 ",
          "G 2/06 ",
          "G 2/06 ",
          "G 1/07 ",
          "G 2/07 ",
          "G 2/08 ",
          "G 3/08 ",
          "G 4/08 ",
          "G 1/09 ",
          "G 1/10 ",
          "G 2/10 ",
          "G 1/11 ",
          "G 1/12 ",
          "G 2/12 ",
          "G 1/13 ",
          "G 2/13 ",
          "G 1/14 ",
          "G 3/14 ",
          "G 1/15 ",
          "G 2301/",
          "G 1/16 ",
          "G 2301/",
          "G 1/18 ",
          "G 1/19 ",
          "G 2/19 ",
          "G 3/19 ",
          "G 4/19 ",
          "G 1/21 ",
          "G 2/21 ",
          "G 1/22 ",
          "G 1/83 ",
          "G 5/83 ",
          "G 1/84 ",
          "G 1/86 ",
          "G 1/88 ",
          "G 2/88 ",
          "G 4/88 ",
          "G 5/88 ",
          "G 6/88 ",
          "G 1/89 ",
          "G 2/89 ",
          "G 3/89 ",
          "G 1/90 ",
          "G 2/90 ",
          "G 1/91 ",
          "G 2/91 ",
          "G 3/91 ",
          "G 4/91 ",
          "G 5/91 ",
          "G 6/91 ",
          "G 7/91 ",
          "G 8/91 ",
          "G 9/91 ",
          "G 10/91",
          "G 10/91",
          "G 12/91",
          "G 1/92 ",
          "G 2/92 ",
          "G 3/92 ",
          "G 4/92 ",
          "G 5/92 ",
          "G 9/92 ",
          "G 10/92",
          "G 1/93 ",
          "G 1/93 ",
          "G 2/93 ",
          "G 3/93 ",
          "G 4/93 ",
          "G 5/93 ",
          "G 5/93 ",
          "G 7/93 ",
          "G 7/93 ",
          "G 8/93 ",
          "G 9/93 ",
          "G 10/93",
          "G 1/94 ",
          "G 2/94 ",
          "G 1/95 ",
          "G 1/95 ",
          "G 2/95 ",
          "G 3/95 ",
          "G 3/95 ",
          "G 4/95 ",
          "G 4/95 ",
          "G 6/95 ",
          "G 6/95 ",
          "G 7/95 ",
          "G 7/95 ",
          "G 8/95 ",
          "G 8/95 ",
          "G 1/97 ",
          "G 2/97 ",
          "G 2/97 ",
          "G 3/97 ",
          "G 4/97 ",
          "G 1/98 ",
          "G 1/98 ",
          "G 2/98 ",
          "G 3/98 ",
          "G 4/98 ",
          "G 4/98 ",
          "G 1/99 ",
          "G 3/99 ",
          "G 3/99 "
         ],
         "textfont": {
          "size": 10
         },
         "type": "scatter3d",
         "x": {
          "bdata": "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",
          "dtype": "f8"
         },
         "y": {
          "bdata": "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",
          "dtype": "f8"
         },
         "z": {
          "bdata": "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",
          "dtype": "f8"
         }
        }
       ],
       "layout": {
        "height": 750,
        "legend": {
         "tracegroupgap": 0
        },
        "scene": {
         "domain": {
          "x": [
           0,
           1
          ],
          "y": [
           0,
           1
          ]
         },
         "xaxis": {
          "title": {
           "text": "x"
          }
         },
         "yaxis": {
          "title": {
           "text": "y"
          }
         },
         "zaxis": {
          "title": {
           "text": "z"
          }
         }
        },
        "template": {
         "data": {
          "bar": [
           {
            "error_x": {
             "color": "#2a3f5f"
            },
            "error_y": {
             "color": "#2a3f5f"
            },
            "marker": {
             "line": {
              "color": "#E5ECF6",
              "width": 0.5
             },
             "pattern": {
              "fillmode": "overlay",
              "size": 10,
              "solidity": 0.2
             }
            },
            "type": "bar"
           }
          ],
          "barpolar": [
           {
            "marker": {
             "line": {
              "color": "#E5ECF6",
              "width": 0.5
             },
             "pattern": {
              "fillmode": "overlay",
              "size": 10,
              "solidity": 0.2
             }
            },
            "type": "barpolar"
           }
          ],
          "carpet": [
           {
            "aaxis": {
             "endlinecolor": "#2a3f5f",
             "gridcolor": "white",
             "linecolor": "white",
             "minorgridcolor": "white",
             "startlinecolor": "#2a3f5f"
            },
            "baxis": {
             "endlinecolor": "#2a3f5f",
             "gridcolor": "white",
             "linecolor": "white",
             "minorgridcolor": "white",
             "startlinecolor": "#2a3f5f"
            },
            "type": "carpet"
           }
          ],
          "choropleth": [
           {
            "colorbar": {
             "outlinewidth": 0,
             "ticks": ""
            },
            "type": "choropleth"
           }
          ],
          "contour": [
           {
            "colorbar": {
             "outlinewidth": 0,
             "ticks": ""
            },
            "colorscale": [
             [
              0,
              "#0d0887"
             ],
             [
              0.1111111111111111,
              "#46039f"
             ],
             [
              0.2222222222222222,
              "#7201a8"
             ],
             [
              0.3333333333333333,
              "#9c179e"
             ],
             [
              0.4444444444444444,
              "#bd3786"
             ],
             [
              0.5555555555555556,
              "#d8576b"
             ],
             [
              0.6666666666666666,
              "#ed7953"
             ],
             [
              0.7777777777777778,
              "#fb9f3a"
             ],
             [
              0.8888888888888888,
              "#fdca26"
             ],
             [
              1,
              "#f0f921"
             ]
            ],
            "type": "contour"
           }
          ],
          "contourcarpet": [
           {
            "colorbar": {
             "outlinewidth": 0,
             "ticks": ""
            },
            "type": "contourcarpet"
           }
          ],
          "heatmap": [
           {
            "colorbar": {
             "outlinewidth": 0,
             "ticks": ""
            },
            "colorscale": [
             [
              0,
              "#0d0887"
             ],
             [
              0.1111111111111111,
              "#46039f"
             ],
             [
              0.2222222222222222,
              "#7201a8"
             ],
             [
              0.3333333333333333,
              "#9c179e"
             ],
             [
              0.4444444444444444,
              "#bd3786"
             ],
             [
              0.5555555555555556,
              "#d8576b"
             ],
             [
              0.6666666666666666,
              "#ed7953"
             ],
             [
              0.7777777777777778,
              "#fb9f3a"
             ],
             [
              0.8888888888888888,
              "#fdca26"
             ],
             [
              1,
              "#f0f921"
             ]
            ],
            "type": "heatmap"
           }
          ],
          "histogram": [
           {
            "marker": {
             "pattern": {
              "fillmode": "overlay",
              "size": 10,
              "solidity": 0.2
             }
            },
            "type": "histogram"
           }
          ],
          "histogram2d": [
           {
            "colorbar": {
             "outlinewidth": 0,
             "ticks": ""
            },
            "colorscale": [
             [
              0,
              "#0d0887"
             ],
             [
              0.1111111111111111,
              "#46039f"
             ],
             [
              0.2222222222222222,
              "#7201a8"
             ],
             [
              0.3333333333333333,
              "#9c179e"
             ],
             [
              0.4444444444444444,
              "#bd3786"
             ],
             [
              0.5555555555555556,
              "#d8576b"
             ],
             [
              0.6666666666666666,
              "#ed7953"
             ],
             [
              0.7777777777777778,
              "#fb9f3a"
             ],
             [
              0.8888888888888888,
              "#fdca26"
             ],
             [
              1,
              "#f0f921"
             ]
            ],
            "type": "histogram2d"
           }
          ],
          "histogram2dcontour": [
           {
            "colorbar": {
             "outlinewidth": 0,
             "ticks": ""
            },
            "colorscale": [
             [
              0,
              "#0d0887"
             ],
             [
              0.1111111111111111,
              "#46039f"
             ],
             [
              0.2222222222222222,
              "#7201a8"
             ],
             [
              0.3333333333333333,
              "#9c179e"
             ],
             [
              0.4444444444444444,
              "#bd3786"
             ],
             [
              0.5555555555555556,
              "#d8576b"
             ],
             [
              0.6666666666666666,
              "#ed7953"
             ],
             [
              0.7777777777777778,
              "#fb9f3a"
             ],
             [
              0.8888888888888888,
              "#fdca26"
             ],
             [
              1,
              "#f0f921"
             ]
            ],
            "type": "histogram2dcontour"
           }
          ],
          "mesh3d": [
           {
            "colorbar": {
             "outlinewidth": 0,
             "ticks": ""
            },
            "type": "mesh3d"
           }
          ],
          "parcoords": [
           {
            "line": {
             "colorbar": {
              "outlinewidth": 0,
              "ticks": ""
             }
            },
            "type": "parcoords"
           }
          ],
          "pie": [
           {
            "automargin": true,
            "type": "pie"
           }
          ],
          "scatter": [
           {
            "fillpattern": {
             "fillmode": "overlay",
             "size": 10,
             "solidity": 0.2
            },
            "type": "scatter"
           }
          ],
          "scatter3d": [
           {
            "line": {
             "colorbar": {
              "outlinewidth": 0,
              "ticks": ""
             }
            },
            "marker": {
             "colorbar": {
              "outlinewidth": 0,
              "ticks": ""
             }
            },
            "type": "scatter3d"
           }
          ],
          "scattercarpet": [
           {
            "marker": {
             "colorbar": {
              "outlinewidth": 0,
              "ticks": ""
             }
            },
            "type": "scattercarpet"
           }
          ],
          "scattergeo": [
           {
            "marker": {
             "colorbar": {
              "outlinewidth": 0,
              "ticks": ""
             }
            },
            "type": "scattergeo"
           }
          ],
          "scattergl": [
           {
            "marker": {
             "colorbar": {
              "outlinewidth": 0,
              "ticks": ""
             }
            },
            "type": "scattergl"
           }
          ],
          "scattermap": [
           {
            "marker": {
             "colorbar": {
              "outlinewidth": 0,
              "ticks": ""
             }
            },
            "type": "scattermap"
           }
          ],
          "scattermapbox": [
           {
            "marker": {
             "colorbar": {
              "outlinewidth": 0,
              "ticks": ""
             }
            },
            "type": "scattermapbox"
           }
          ],
          "scatterpolar": [
           {
            "marker": {
             "colorbar": {
              "outlinewidth": 0,
              "ticks": ""
             }
            },
            "type": "scatterpolar"
           }
          ],
          "scatterpolargl": [
           {
            "marker": {
             "colorbar": {
              "outlinewidth": 0,
              "ticks": ""
             }
            },
            "type": "scatterpolargl"
           }
          ],
          "scatterternary": [
           {
            "marker": {
             "colorbar": {
              "outlinewidth": 0,
              "ticks": ""
             }
            },
            "type": "scatterternary"
           }
          ],
          "surface": [
           {
            "colorbar": {
             "outlinewidth": 0,
             "ticks": ""
            },
            "colorscale": [
             [
              0,
              "#0d0887"
             ],
             [
              0.1111111111111111,
              "#46039f"
             ],
             [
              0.2222222222222222,
              "#7201a8"
             ],
             [
              0.3333333333333333,
              "#9c179e"
             ],
             [
              0.4444444444444444,
              "#bd3786"
             ],
             [
              0.5555555555555556,
              "#d8576b"
             ],
             [
              0.6666666666666666,
              "#ed7953"
             ],
             [
              0.7777777777777778,
              "#fb9f3a"
             ],
             [
              0.8888888888888888,
              "#fdca26"
             ],
             [
              1,
              "#f0f921"
             ]
            ],
            "type": "surface"
           }
          ],
          "table": [
           {
            "cells": {
             "fill": {
              "color": "#EBF0F8"
             },
             "line": {
              "color": "white"
             }
            },
            "header": {
             "fill": {
              "color": "#C8D4E3"
             },
             "line": {
              "color": "white"
             }
            },
            "type": "table"
           }
          ]
         },
         "layout": {
          "annotationdefaults": {
           "arrowcolor": "#2a3f5f",
           "arrowhead": 0,
           "arrowwidth": 1
          },
          "autotypenumbers": "strict",
          "coloraxis": {
           "colorbar": {
            "outlinewidth": 0,
            "ticks": ""
           }
          },
          "colorscale": {
           "diverging": [
            [
             0,
             "#8e0152"
            ],
            [
             0.1,
             "#c51b7d"
            ],
            [
             0.2,
             "#de77ae"
            ],
            [
             0.3,
             "#f1b6da"
            ],
            [
             0.4,
             "#fde0ef"
            ],
            [
             0.5,
             "#f7f7f7"
            ],
            [
             0.6,
             "#e6f5d0"
            ],
            [
             0.7,
             "#b8e186"
            ],
            [
             0.8,
             "#7fbc41"
            ],
            [
             0.9,
             "#4d9221"
            ],
            [
             1,
             "#276419"
            ]
           ],
           "sequential": [
            [
             0,
             "#0d0887"
            ],
            [
             0.1111111111111111,
             "#46039f"
            ],
            [
             0.2222222222222222,
             "#7201a8"
            ],
            [
             0.3333333333333333,
             "#9c179e"
            ],
            [
             0.4444444444444444,
             "#bd3786"
            ],
            [
             0.5555555555555556,
             "#d8576b"
            ],
            [
             0.6666666666666666,
             "#ed7953"
            ],
            [
             0.7777777777777778,
             "#fb9f3a"
            ],
            [
             0.8888888888888888,
             "#fdca26"
            ],
            [
             1,
             "#f0f921"
            ]
           ],
           "sequentialminus": [
            [
             0,
             "#0d0887"
            ],
            [
             0.1111111111111111,
             "#46039f"
            ],
            [
             0.2222222222222222,
             "#7201a8"
            ],
            [
             0.3333333333333333,
             "#9c179e"
            ],
            [
             0.4444444444444444,
             "#bd3786"
            ],
            [
             0.5555555555555556,
             "#d8576b"
            ],
            [
             0.6666666666666666,
             "#ed7953"
            ],
            [
             0.7777777777777778,
             "#fb9f3a"
            ],
            [
             0.8888888888888888,
             "#fdca26"
            ],
            [
             1,
             "#f0f921"
            ]
           ]
          },
          "colorway": [
           "#636efa",
           "#EF553B",
           "#00cc96",
           "#ab63fa",
           "#FFA15A",
           "#19d3f3",
           "#FF6692",
           "#B6E880",
           "#FF97FF",
           "#FECB52"
          ],
          "font": {
           "color": "#2a3f5f"
          },
          "geo": {
           "bgcolor": "white",
           "lakecolor": "white",
           "landcolor": "#E5ECF6",
           "showlakes": true,
           "showland": true,
           "subunitcolor": "white"
          },
          "hoverlabel": {
           "align": "left"
          },
          "hovermode": "closest",
          "mapbox": {
           "style": "light"
          },
          "paper_bgcolor": "white",
          "plot_bgcolor": "#E5ECF6",
          "polar": {
           "angularaxis": {
            "gridcolor": "white",
            "linecolor": "white",
            "ticks": ""
           },
           "bgcolor": "#E5ECF6",
           "radialaxis": {
            "gridcolor": "white",
            "linecolor": "white",
            "ticks": ""
           }
          },
          "scene": {
           "xaxis": {
            "backgroundcolor": "#E5ECF6",
            "gridcolor": "white",
            "gridwidth": 2,
            "linecolor": "white",
            "showbackground": true,
            "ticks": "",
            "zerolinecolor": "white"
           },
           "yaxis": {
            "backgroundcolor": "#E5ECF6",
            "gridcolor": "white",
            "gridwidth": 2,
            "linecolor": "white",
            "showbackground": true,
            "ticks": "",
            "zerolinecolor": "white"
           },
           "zaxis": {
            "backgroundcolor": "#E5ECF6",
            "gridcolor": "white",
            "gridwidth": 2,
            "linecolor": "white",
            "showbackground": true,
            "ticks": "",
            "zerolinecolor": "white"
           }
          },
          "shapedefaults": {
           "line": {
            "color": "#2a3f5f"
           }
          },
          "ternary": {
           "aaxis": {
            "gridcolor": "white",
            "linecolor": "white",
            "ticks": ""
           },
           "baxis": {
            "gridcolor": "white",
            "linecolor": "white",
            "ticks": ""
           },
           "bgcolor": "#E5ECF6",
           "caxis": {
            "gridcolor": "white",
            "linecolor": "white",
            "ticks": ""
           }
          },
          "title": {
           "x": 0.05
          },
          "xaxis": {
           "automargin": true,
           "gridcolor": "white",
           "linecolor": "white",
           "ticks": "",
           "title": {
            "standoff": 15
           },
           "zerolinecolor": "white",
           "zerolinewidth": 2
          },
          "yaxis": {
           "automargin": true,
           "gridcolor": "white",
           "linecolor": "white",
           "ticks": "",
           "title": {
            "standoff": 15
           },
           "zerolinecolor": "white",
           "zerolinewidth": 2
          }
         }
        },
        "title": {
         "text": "Embeddings (PCA → 3D)"
        }
       }
      },
      "image/png": "[encoded data removed]"
     },
     "metadata": {},
     "output_type": "display_data"
    },
    {
     "data": {
      "application/vnd.plotly.v1+json": {
       "config": {
        "plotlyServerURL": "https://plot.ly"
       },
       "data": [
        {
         "customdata": [
          [
           "28c06547-c126-4193-96c9-8cb78f55b8fb",
           "G 1/02 (G020001EP1) [EN] Points 4 and 6 of the Notice from the Vice-President Directorate-General 2 dated 28 April 1999 (OJ EPO 1999, 506) do not conflict with provisions of a higher level."
          ],
          [
           "d0701f59-34f5-4fa7-a01e-0cf9cbd70469",
           "G 2/02 (G020002EP1) [EN] The TRIPS Agreement does not entitle the applicant for a European patent application to claim priority from a first filing in a state which was not at the relevant dates a mem"
          ],
          [
           "afafe00b-9cb5-4ad0-95b9-7ead91a0e83f",
           "G 2/02 (G020002EX1) [EN] The TRIPs Agreement does not entitle the applicant for a European patent application to claim priority from a first filing in a State which was not at the relevant dates a mem"
          ],
          [
           "95674925-2f47-44a1-8052-b0349621ede3",
           "G 1/03 (G030001EP1) [EN] I. An amendment to a claim by the introduction of a disclaimer may not be refused under Article 123(2) EPC for the sole reason that neither the disclaimer nor the subject-matt"
          ],
          [
           "1bc1a393-ef2f-45f3-a0be-b15c15b29fa5",
           "G 1/03 (G030001EX1) [EN] 1. An amendment to a claim by the introduction of a disclaimer may not be refused under Article 123(2) EPC for the sole reason that neither the disclaimer nor the subject-matt"
          ],
          [
           "e07f6f75-1f54-4ab9-96a5-08ded4e88e59",
           "G 3/03 (G030003EP1) [EN] I. In the event of interlocutory revision under Article 109(1) EPC, the department of the first instance whose decision has been appealed is not competent to refuse a request "
          ],
          [
           "06d78333-3713-4c5b-8012-07c402ed5196",
           "G 3/03 (G030003EX1) [EN] 1.In the event of interlocutory revision under Article 109(1) EPC, the department of the first instance whose decision has been appealed is not competent to refuse a request o"
          ],
          [
           "2176d317-92ca-49a6-9063-0dfd3bbb0fec",
           "G 1/04 (G040001EP1) [EN] I. In order that the subject-matter of a claim relating to a diagnostic method practised on the human or animal body falls under the prohibition of Article 52(4) EPC, the clai"
          ],
          [
           "1b74f924-bac1-47bc-ba11-01fb35a93d28",
           "G 1/04 (G040001EX1) [EN] 1. In order that the subject-matter of a claim relating to a diagnostic method practised on the human or animal body falls under the prohibition of Article 52(4) EPC, the clai"
          ],
          [
           "89d13e9d-10a0-449a-9360-7c4d9887e1f9",
           "G 2/04 (G040002EP1) [EN] I. (a) The status as an opponent cannot be freely transferred. (b) A legal person who was a subsidiary of the opponent when the opposition was filed and who carries on the bus"
          ],
          [
           "db9362f5-e23a-4f78-831f-605a9b639f2b",
           "G 2/04 (G040002EX1) [EN] (see Order)"
          ],
          [
           "b2d5dce5-630b-4328-85c9-866fa6561609",
           "G 3/04 (G040003EP1) [EN] After withdrawal of the sole appeal, the proceedings may not be continued with a third party who intervened during the appeal proceedings."
          ],
          [
           "041183e6-de8b-47c8-a8ec-d9257a200d73",
           "G 1/05 (G050001EP1) [EN] I. If a member of a Board of Appeal in a notice of withdrawal gives a ground which may by its nature constitute a possible ground for an objection of partiality that ground sh"
          ],
          [
           "6cf347ce-68e3-4103-af8d-3c168110f6d8",
           "G 1/05 (G050001EP2) [EN] So far as Article 76(1) EPC is concerned, a divisional application which at its actual date of filing contains subject-matter extending beyond the content of the earlier appli"
          ],
          [
           "8016984a-afa4-4373-be5f-8558817a7537",
           "G 1/05 (G050001EX2) [EN] So far as Article 76(1) EPC is concerned, a divisional application which at its actual date of filing contains subject- matter extending beyond the content of the earlier appl"
          ],
          [
           "cfa4c33f-7086-4f95-b558-ad6db0e2eb22",
           "G 1/06 (G060001EP1) [EN] In the case of a sequence of applications consisting of a root (originating) application followed by divisional applications, each divided from its predecessor, it is a necess"
          ],
          [
           "df26ffae-369e-4993-9f42-7603a2864c84",
           "G 1/06 (G060001EX1) [EN] In the case of a sequence of applications consisting of a root (originating) application followed by divisional applications, each divided from its predecessor, it is a necess"
          ],
          [
           "d35a0918-8655-4eed-b409-7b5106a75d2f",
           "G 2/06 (G060002EP1) [EN] 1. The request for a preliminary ruling by the European Court of Justice on the questions suggested is rejected as inadmissible. 2. The questions referred to the Enlarged Boar"
          ],
          [
           "6f6d706a-4778-4b82-9ae1-b2441371f21f",
           "G 2/06 (G060002EX1) [EN] 1. The request for a preliminary ruling by the European Court of Justice on the questions suggested is rejected as inadmissible. 2. The questions referred to the Enlarged Boar"
          ],
          [
           "3da30c76-af49-4da8-a209-757c60b1e89c",
           "G 1/07 (G070001EP1) [EN] The questions referred to the Enlarged Board of Appeal are answered as follows: 1. A claimed imaging method, in which, when carried out, maintaining the life and health of the"
          ],
          [
           "a166d8e3-857b-41a9-9709-76f37535507c",
           "G 2/07 (G070002EP1) [EN] The questions of law referred to the Enlarged Board of Appeal are answered as follows: 1. A non-microbiological process for the production of plants which contains or consists"
          ],
          [
           "25519901-6272-4a0e-a8d9-43c589cc6428",
           "G 2/08 (G080002EP1) [EN] The questions referred to the Enlarged Board of Appeal are answered as follows: Question 1: Where it is already known to use a medicament to treat an illness, Article 54(5) EP"
          ],
          [
           "4dee3f20-1000-4e87-9539-e83c8e3e0cf5",
           "G 3/08 (G080003EX1) [EN] 1. In exercising his or her right of referral a President of the EPO is entitled to make full use of the discretion granted by Article 112 (1) (b) EPC, even if his or her appr"
          ],
          [
           "036b1b33-7093-4a60-b6b5-2b738e79ace4",
           "G 4/08 (G080004EP1) [EN] The Enlarged Board of Appeal, in response to the three points of law referred to it, concludes that: Question 1: If an international patent application has been filed and publ"
          ],
          [
           "5370dd09-d31d-4309-a20f-a2e1fe64aa3a",
           "G 1/09 (G090001EP1) [EN] In the case where no appeal is filed, a European Patent application which has been refused by a decision of the Examining Division is thereafter still pending within the meani"
          ],
          [
           "8aad5616-8773-4835-8315-bd5337f2ecc8",
           "G 1/10 (G100001EP1) [EN] The questions referred to the Enlarged Board of Appeal are answered as follows: 1. Since Rule 140 EPC is not available to correct the text of a patent, a patent proprietor's r"
          ],
          [
           "88137ffd-ecbe-4319-9fd9-d1f897c18836",
           "G 2/10 (G100002EP1) [EN] The question referred to the Enlarged Board of Appeal is answered as follows: 1a. An amendment to a claim by the introduction of a disclaimer disclaiming from it subject-matte"
          ],
          [
           "f61f1b52-8323-4ed7-96fa-112824e1ff5d",
           "G 1/11 (G110001EP1) [EN] A technical board of appeal is competent to hear an appeal against an EPO examining division's decision  taken separately from its decision granting a patent or refusing the "
          ],
          [
           "19180d91-c7f8-48d0-a44b-f10555c6db1b",
           "G 1/12 (G120001EP1) [EN] The questions referred to the Enlarged Board of Appeal are answered as follows: Question (1): The answer to reformulated question (1) - namely whether when a notice of appeal,"
          ],
          [
           "a3533351-6623-44a8-9b24-950acc0a68f9",
           "G 2/12 (G120002EP1) [EN] 1. The exclusion of essentially biological processes for the production of plants in Article 53(b) EPC does not have a negative effect on the allowability of a product claim d"
          ],
          [
           "aa1ee0f1-4a57-4a47-bf68-cdba2afe6c96",
           "G 1/13 (G130001EP1) [EN] The questions referred to the Enlarged Board of Appeal are answered as follows: 1. Where an opposition is filed by a company which subsequently, under the relevant national la"
          ],
          [
           "df6d9d55-85e3-40f4-be3e-9887ae16420d",
           "G 2/13 (G130002EP1) [EN] 1. The exclusion of essentially biological processes for the production of plants in Article 53(b) EPC does not have a negative effect on the allowability of a product claim d"
          ],
          [
           "2c795736-a758-4501-bfdd-afa60b5156c0",
           "G 1/14 (G140001EP1) [EN] 1. If a board of appeal refers a point of law to the Enlarged Board under Article 112(1)(a) EPC, it is primarily up to the former to explain, in its referral decision, that  "
          ],
          [
           "ff70be0f-d6ab-42ba-bc1c-698f25c1e641",
           "G 3/14 (G140003EP1) [EN] In considering whether, for the purposes of Article 101(3) EPC, a patent as amended meets the requirements of the EPC, the claims of the patent may be examined for compliance "
          ],
          [
           "e821b988-33ec-4bc8-afb6-c7de5a590aee",
           "G 1/15 (G150001EP1) [EN] Under the EPC, entitlement to partial priority may not be refused for a claim encompassing alternative subject-matter by virtue of one or more generic expressions or otherwise"
          ],
          [
           "23226250-681a-4d05-917a-60776f6f743c",
           "G 2301/15 (G152301EU1) [EN] 1. The law-making bodies have so shaped the proceedings for a decision for a proposal under Article 23(1) EPC that they take proper judicial form. The arrangements laid dow"
          ],
          [
           "f1c7ca60-f85d-445a-adb2-184f7149af83",
           "G 1/16 (G160001EP1) [EN] For the purpose of considering whether a claim amended by the introduction of an undisclosed disclaimer is allowable under Article 123(2) EPC, the disclaimer must fulfil one o"
          ],
          [
           "87c16e8e-5e9f-4cda-aabb-60f895fc63e8",
           "G 2301/16 (G162301EU1) [EN] For the Enlarged Board to be able to continue with these proceedings the position of the Petitioner would have to be that it did not agree with the Office President and ack"
          ],
          [
           "43c9371f-8f59-4aeb-8d74-e0ed2f108f7d",
           "G 1/18 (G180001EP1) [EN] 1. An appeal is deemed not to have been filed in the following cases: (a) where notice of appeal was filed within the two-month time limit prescribed in Article 108, first sen"
          ],
          [
           "818e5aed-fc59-4959-817c-55c8a1eb4806",
           "G 1/19 (G190001EX1) [EN] A computer-implemented simulation of a technical system or process that is claimed as such can, for the purpose of assessing inventive step, solve a technical problem by produ"
          ],
          [
           "4f0012b6-1824-4dbc-af00-1a623d28ce5a",
           "G 2/19 (G190002EP1) [EN] 1. A third party within the meaning of Article 115 EPC who has filed an appeal against a decision to grant a European patent has no right to have its request for an order that"
          ],
          [
           "51000deb-0c45-4830-9217-d184df925636",
           "G 3/19 (G190003EP1) [EN] Taking into account developments after decisions G 2/12 and G 2/13 of the Enlarged Board of Appeal, the exception to patentability of essentially biological processes for the "
          ],
          [
           "333c95f1-247d-4ca8-994e-d07ee0ba0e66",
           "G 4/19 (G190004EX1) [EN] 1. A European patent application can be refused under Articles 97(2) and 125 EPC if it claims the same subject-matter as a European patent which has been granted to the same a"
          ],
          [
           "6f02a668-8435-43f4-9fc2-c317f6001a27",
           "G 1/21 (G210001EX3) [EN] During a general emergency impairing the parties' possibilities to attend in-person oral proceedings at the EPO premises, the conduct of oral proceedings before the boards of "
          ],
          [
           "9783a1d6-d4dd-41a2-b2ff-abe60fbdc173",
           "G 2/21 (G210002EU1) [EN] I. Evidence submitted by a patent applicant or proprietor to prove a technical effect relied upon for acknowledgement of inventive step of the claimed subject-matter may not b"
          ],
          [
           "520a58ad-b08f-4f45-a9c4-e639756d33ee",
           "G 1/22 (G220001EU1) [EN] I. The European Patent Office is competent to assess whether a party is entitled to claim priority under Article 87(1) EPC. There is a rebuttable presumption under the autonom"
          ],
          [
           "796918b6-c861-4479-8499-37eb2c80fdf5",
           "G 1/83 (G830001EP1) [EN] I. A European Patent with claims directed to the use may not be granted for the use of a substance or composition for the treatment of the human or animal body by therapy. II."
          ],
          [
           "595c83ff-c7f7-4633-8099-a524f0d4b21e",
           "G 5/83 (G830005EP1) [EN] I. A European Patent with claims directed to the use may not be granted for the use of a substance or composition for the treatment of the human or animal body by therapy. II."
          ],
          [
           "0203cfed-6d4f-46c5-9e25-4e16ae4e1f6c",
           "G 1/84 (G840001EP1) [EN] A notice of opposition against a European patent is not inadmissible merely because it has been filed by the proprietor of that patent."
          ],
          [
           "4c0379e9-9edc-4128-9818-b4d29608749a",
           "G 1/86 (G860001EP1) [EN] Article 122 EPC is not to be interpreted as being applicable only to the applicant and patent proprietor. An appellant as opponent may have his rights re-established under Art"
          ],
          [
           "0dd47764-8e90-4e24-b019-48e39e197399",
           "G 1/88 (G880001EP1) [EN] The fact that an opponent has failed, within the time allowed, to make any observations on the text in which it is intended to maintain the European patent after being invited"
          ],
          [
           "3e83d979-0afd-452e-8f7a-7c5f59a62d59",
           "G 2/88 (G880002EP1) [EN] I. A change of category of granted claims in opposition proceedings is not open to objection under Article 123(3) EPC, if it does not result in extension of the protection con"
          ],
          [
           "75a3eb73-f438-4c66-a92c-1041b99d55e8",
           "G 4/88 (G880004EP1) [EN] An opposition pending before the European Patent Office may be transferred or assigned to a third party as part of the opponent's business assets together with the assets in t"
          ],
          [
           "da57ed69-d13b-4190-b29d-3438ab3e8306",
           "G 5/88 (G880005EP1) [EN] 1. The capacity of the President of the European Patent Office to represent the European Patent Organisation by virtue of Article 5(3) EPC is one of his functions but is not o"
          ],
          [
           "42c6162e-e310-4bbe-ad34-97085101f4ec",
           "G 6/88 (G880006EP1) [EN] A claim to the use of a known compound for a particular purpose, which is based on a technical effect which is described in the patent, should be interpreted as including that"
          ],
          [
           "634b598f-56a5-487b-9ac9-9e937deda118",
           "G 1/89 (G890001EP1) [EN] The agreement between the European Patent Organisation and WIPO dated 7 October 1987, including the obligation under its Article 2 for the EPO to be guided by the PCT guidelin"
          ],
          [
           "a970f03f-14a4-41e6-9016-45d7b2a9f5ff",
           "G 2/89 (G890002EP1) [EN] The EPO in its function as an ISA may, pursuant to Article 17(3)(a) PCT, request a further search fee where the international application is considered to lack unity of invent"
          ],
          [
           "1aa93cf3-60d0-4a46-b3b6-eea5e9e0494e",
           "G 3/89 (G890003EP1) [EN] 1. The parts of a European patent application or of a European patent relating to the disclosure (the description, claims and drawings) may be corrected under Rule 88, second "
          ],
          [
           "75d90364-fbef-47b8-b417-e73f7b2f73fe",
           "G 1/90 (G900001EP1) [EN] The revocation of a patent under Article 102(4) and (5) EPC requires a decision."
          ],
          [
           "48ea3e80-f77c-4636-8e2a-e3d334dff52f",
           "G 2/90 (G900002EP1) [EN] 1. Under Article 21(3)(c) EPC, the Legal Board of Appeal is competent only to hear appeals against decisions taken by an Examining Division consisting of fewer than four membe"
          ],
          [
           "54468e96-e1ba-426e-b79c-056f8a45f965",
           "G 1/91 (G910001EP1) [EN] Unity of invention (Article 82 EPC) does not come under the requirements that a European patent and the invention to which it relates must meet under Article 102(3) EPC when t"
          ],
          [
           "e7a4f1e4-792b-438a-a894-d66b69fec178",
           "G 2/91 (G910002EP1) [EN] 1. A person who is entitled to appeal but does not do so and instead confines himself to being a party to the appeal proceedings under Article 107, second sentence, EPC, has n"
          ],
          [
           "e946a185-b80b-41b1-820f-51a50f127ea9",
           "G 3/91 (G910003EP1) [EN] Article 122(5) EPC is applicable both to the time limits provided for in Articles 78(2) and 79(2) EPC and to those provided for in Rule 104b(1)(b) and (c) EPC in conjunction w"
          ],
          [
           "af9fb874-28aa-4583-95c2-2e07614d106c",
           "G 4/91 (G910004EP1) [EN] I. It is a prerequisite for intervention in opposition proceedings by an assumed infringer pursuant to Article 105 EPC that there are opposition proceedings in existence at th"
          ],
          [
           "6a30d245-babd-4ea7-b671-faf4a368b808",
           "G 5/91 (G910005EP1) [EN] 1. Although Article 24 EPC applies only to members of the Boards of Appeal and of the Enlarged Board of Appeal, the requirement of impartiality applies in principle also to em"
          ],
          [
           "4beea8cb-63f0-4808-b74d-a6ead68248e2",
           "G 6/91 (G910006EP1) [EN] 1. The persons referred to in Article 14(2) EPC are entitled to the fee reduction under Rule 6(3) EPC if they file the essential item of the first act in filing, examination o"
          ],
          [
           "9122357e-0d31-4982-a451-bb67ba712620",
           "G 7/91 (G910007EP1) [EN] In so far as the substantive issues settled by the contested decision at first instance are concerned, a Board of Appeal may not continue opposition appeal proceedings after t"
          ],
          [
           "cc9560ee-3f6b-4737-a5b7-c2393f8e6de0",
           "G 8/91 (G910008EP1) [EN] In so far as the substantive issues settled by the contested decision at first instance are concerned, appeal proceedings are terminated, in ex parte and inter partes proceedi"
          ],
          [
           "c37e22bd-d536-40e7-b597-16294a7babee",
           "G 9/91 (G910009EP1) [EN] The power of an Opposition Division or a Board of Appeal to examine and decide on the maintenance of a European patent under Articles 101 and 102 EPC depends upon the extent t"
          ],
          [
           "6fc65268-390e-4e57-8d0c-0fd3d9993c15",
           "G 10/91 (G910010EP1) [EN] 1. An Opposition Division or a Board of Appeal is not obliged to consider all the grounds for opposition referred to in Article 100 EPC, going beyond the grounds covered by t"
          ],
          [
           "9d4df2f3-36cc-490f-8fe2-901582d05bae",
           "G 10/91 (G910010EX1) [EN] 1. An Opposition Division or a Board of Appeal is not obliged to consider all the grounds for opposition referred to in Article 100 EPC, going beyond the grounds covered by t"
          ],
          [
           "526f033e-5510-4857-8870-7c5b60901ec1",
           "G 12/91 (G910012EP1) [EN] The decision-making process following written proceedings is completed on the date the decision to be notified is handed over to the EPO postal service by the decision-taking"
          ],
          [
           "b130c677-bc1b-4fba-97d9-c27cda1877d9",
           "G 1/92 (G920001EP1) [EN] 1. The chemical composition of a product is state of the art when the product as such is available to the public and can be analysed and reproduced by the skilled person, irre"
          ],
          [
           "e66a4472-026e-4e9e-8f39-2dbb0c3623fa",
           "G 2/92 (G920002EP1) [EN] An applicant who fails to pay the further search fees for a non-unitary application when requested to do so by the Search Division under Rule 46(1) EPC cannot pursue that appl"
          ],
          [
           "2d278b5c-2e61-4395-86c9-460b1bc8d458",
           "G 3/92 (G920003EP1) [EN] When it has been adjudged by a final decision of a national court that a person other than the applicant is entitled to the grant of a European patent, and that person, in com"
          ],
          [
           "e20a2924-f410-4573-86a2-0aece8e32100",
           "G 4/92 (G920004EP1) [EN] 1. A decision against a party who has been duly summoned but who fails to appear at oral proceedings may not be based on facts put forward for the first time during those oral"
          ],
          [
           "d915b9c7-acca-42f9-806d-31b42e223d57",
           "G 5/92 (G920005EP1) [EN] The time limit under Article 94, paragraph 2, EPC is excluded from the restitutio in integrum by the provisions of paragraph 5 of Article 122 EPC."
          ],
          [
           "a23d673f-2fff-4281-9c5d-ec3375225993",
           "G 9/92 (G920009EP1) [EN] 1. If the patent proprietor is the sole appellant against an interlocutory decision maintaining a patent in amended form, neither the Board of Appeal nor the non-appealing opp"
          ],
          [
           "2f8deae4-cc16-4f9a-8cc7-6167f9ec4ed6",
           "G 10/92 (G920010EP1) [EN] Under the amended version of Rule 25 EPC in force since 1 October 1988 an applicant may only file a divisional application on the pending earlier European patent application "
          ],
          [
           "e36d4899-c9c0-4b00-b632-c965d78ef7ca",
           "G 1/93 (G930001EP1) [EN] 1. If a European patent as granted contains subject-matter which extends beyond the content of the application as filed within the meaning of Article 123(2) EPC and which also"
          ],
          [
           "77ec4897-6363-47c1-83b2-b1f9e384b689",
           "G 1/93 (G930001EX1) [EN] 1. If a European patent as granted contains subject-matter which extends beyond the content of the application as filed in the sense of Article 123(2) EPC and which also limit"
          ],
          [
           "9845ebdd-483a-49f2-9ea5-f81c01da92d1",
           "G 2/93 (G930002EP1) [EN] The information concerning the file number of a culture deposit according to Rule 28(1)(c) EPC may not be submitted after expiry of the time limit set out in Rule 28(2)(a) EPC"
          ],
          [
           "1b876d0e-c637-4c72-9206-3f17c2f18341",
           "G 3/93 (G930003EP1) [EN] 1. A document published during the priority interval, the technical contents of which correspond to that of the priority document, constitutes prior art citable under Article "
          ],
          [
           "ad775cf6-37f6-4e94-a4f3-56cc53f9aa86",
           "G 4/93 (G930004EX1) [EN] I. If the patent proprietor is the sole appellant against an interlocutory decision maintaining a patent in amended form, neither the Board of Appeal nor the non-appealing opp"
          ],
          [
           "67666755-26f9-4d4b-b9a0-9a173adb4876",
           "G 5/93 (G930005EP1) [EN] The provisions of Article 122(5) EPC apply to the time limits provided for in Rule 104b(1)(b)(i) and (ii) EPC in conjunction with Articles 157(2)(b) and 158(2) EPC. This notwi"
          ],
          [
           "bf50d958-111c-404e-ba23-7baecaf44dcd",
           "G 5/93 (G930005EX1) [EN] The provisions of Article 122(5) EPC apply to the time limits provided for in Rule 104b(1)(b) (i) and (ii) EPC in conjunction with Articles 157(2)(b) and 158(2) EPC. This noth"
          ],
          [
           "0e7616dc-92e8-43bb-9523-5bfdc06cf04d",
           "G 7/93 (G930007EP1) [EN] 1. An approval of a notified text submitted by an applicant pursuant to Rule 51(4) EPC does not become binding once a communication in accordance with Rule 51(6) EPC has been "
          ],
          [
           "de338c2e-66a9-417e-bbb3-4962a17983b1",
           "G 7/93 (G930007EX1) [EN] I. An approval of a notified text submitted by an applicant pursuant to Rule 51(4) EPC does not become binding once a communication in accordance with Rule 51(6) EPC has been "
          ],
          [
           "6ae3f3d7-8a6f-4916-95aa-2f2bd022d663",
           "G 8/93 (G930008EP1) [EN] The filing by an opponent, who is sole appellant, of a statement withdrawing his opposition immediately and automatically terminates the appeal proceedings, irrespective of wh"
          ],
          [
           "b8037c0a-0a09-4c43-b3b8-5642431f830e",
           "G 9/93 (G930009EP1) [EN] A European patent cannot be opposed by its own proprietor (overturns ruling in G 1/84)."
          ],
          [
           "b6e523c6-3cbd-4fa6-9fc0-99adae2bfb17",
           "G 10/93 (G930010EP1) [EN] In an appeal from a decision of an examining division in which a European patent application was refused the board of appeal has the power to examine whether the application "
          ],
          [
           "179deaa4-4993-4144-9af7-529c24cb98f8",
           "G 1/94 (G940001EP1) [EN] Intervention of the assumed infringer under Article 105 EPC is admissible during pending appeal proceedings and may be based on any ground for opposition under Article 100 EPC"
          ],
          [
           "18e4d175-da6b-4774-ba4e-b5f8806085de",
           "G 2/94 (G940002EP1) [EN] 1. A board of appeal has a discretion to allow an accompanying person (who is not entitled under Article 134(1) or (7) EPC to represent parties to proceedings before the EPO) "
          ],
          [
           "f39d6e28-82a6-4427-ba2e-8c22c1d85383",
           "G 1/95 (G950001EP1) [EN] In a case where a patent has been opposed on the grounds set out in Article 100(a) EPC, but the opposition has only been substantiated on the grounds of lack of novelty and la"
          ],
          [
           "f7d1405c-4a3b-4f52-92b9-2ec207079a29",
           "G 1/95 (G950001EX1) [EN] In a case where a patent has been opposed on the grounds set out in Article 100(a) EPC, but the opposition has only been substantiated on the grounds of lack of novelty and la"
          ],
          [
           "133ce6b1-2158-4494-a23e-e352bf719085",
           "G 2/95 (G950002EP1) [EN] The point of law referred to the Enlarged Board of Appeal is to be answered as follows: The complete documents forming a European patent application, that is the description, "
          ],
          [
           "0ef9a1f1-d23e-4932-a412-359132df410d",
           "G 3/95 (G950003EP1) [EN] 1. In decision T 356/93 (OJ EPO 1995, 545) it was held that a claim defining genetically modified plants having a distinct, stable, herbicide-resistance genetic characteristic"
          ],
          [
           "28fb135d-225a-41ce-bde2-7eb43efbd220",
           "G 3/95 (G950003EX1) [EN] 1. In Decision T 356/93 (OJ EPO 1995, 545) it was held that a claim defining genetically modified plants having a distinct, stable, herbicide-resistance genetic characteristic"
          ],
          [
           "7ab7d0e7-2c28-4cc8-9e70-2e0ffe045fc7",
           "G 4/95 (G950004EP1) [EN] 1. During oral proceedings under Article 116 EPC in the context of opposition or opposition appeal proceedings, a person accompanying the professional representative of a part"
          ],
          [
           "6dee2f1f-3307-4586-8d5e-5dcf705688d4",
           "G 4/95 (G950004EX1) [EN] I. During oral proceedings under Article 116 EPC in the context of opposition or opposition appeal proceedings, a person accompanying the professional representative of a part"
          ],
          [
           "dcc26aff-9621-4afa-95bf-f4faacd279a5",
           "G 6/95 (G950006EP1) [EN] Rule 71a(1) EPC does not apply to the boards of appeal."
          ],
          [
           "71d2db14-38d6-4c0b-b374-644516923b5f",
           "G 6/95 (G950006EX1) [EN] Rule 71a(1) EPC does not apply to the Boards of Appeal."
          ],
          [
           "c2124688-44f0-4e6d-9a9c-ce550367143a",
           "G 7/95 (G950007EP1) [EN] In a case where a patent has been opposed under Article 100(a) EPC on the ground that the claims lack an inventive step in view of documents cited in the notice of opposition,"
          ],
          [
           "1273b3a6-5240-4fc0-9560-8e28cfa5699c",
           "G 7/95 (G950007EX1) [EN] In a case where a patent has been opposed under Article 100(a) EPC on the ground that the claims lack an inventive step in view of documents cited in the notice of opposition,"
          ],
          [
           "d24d9452-f0d9-4064-a02e-4fefeb00d4f4",
           "G 8/95 (G950008EP1) [EN] An appeal from a decision of an Examining Division refusing a request under Rule 89 EPC for correction of the decision to grant is to be decided by a technical board of Appeal"
          ],
          [
           "04a94889-56a2-4a27-b1a0-45ce8560ae0f",
           "G 8/95 (G950008EX1) [EN] An appeal from a decision of an Examining Division refusing a request under Rule 89 EPC for correction of the decision to grant is to be decided by a Technical Board of Appeal"
          ],
          [
           "2f52000f-2986-4f1e-9c72-24ab6edced4b",
           "G 1/97 (G970001EP1) [EN] I. In the context of the European Patent Convention, the jurisdictional measure to be taken in response to requests based on the alleged violation of a fundamental procedural "
          ],
          [
           "b526e17a-a227-4ea7-8e10-b1d54a632087",
           "G 2/97 (G970002EP1) [EN] The principle of good faith does not impose any obligation on the boards of appeal to notify an appellant that an appeal fee is missing when the notice of appeal is filed so e"
          ],
          [
           "1a9226ce-82c4-4dab-89ec-047b4d243895",
           "G 2/97 (G970002EX1) [EN] The principle of good faith does not impose any obligation on the boards of appeal to notify an appellant that an appeal fee is missing when the notice of appeal is filed so e"
          ],
          [
           "c46e6863-a454-4bea-a14a-4a5007b38e02",
           "G 3/97 (G970003EP1) [EN] 1(a): An opposition is not inadmissible purely because the person named as opponent according to Rule 55(a) EPC is acting on behalf of a third party. 1(b): Such an opposition "
          ],
          [
           "8ad8aa09-9c03-4e70-9960-fad0c6ea499f",
           "G 4/97 (G970004EP1) [EN] 1(a): An opposition is not inadmissible purely because the person named as opponent according to Rule 55(a) EPC is acting on behalf of a third party. 1(b): Such an opposition "
          ],
          [
           "a9005502-b83b-4066-9158-222cfca13a6c",
           "G 1/98 (G980001EP1) [EN] I. A claim wherein specific plant varieties are not individually claimed is not excluded from patentability under Article 53(b) EPC even though it may embrace plant varieties."
          ],
          [
           "0876e5dc-45f9-4cce-b121-bdcc617bba6d",
           "G 1/98 (G980001EX1) [EN] I. A claim wherein specific plant varieties are not individually claimed is not excluded from patentability under Article 53(b), EPC even though it may embrace plant varieties"
          ],
          [
           "7612c2a2-1313-4dc0-95dc-b08b007504b1",
           "G 2/98 (G980002EP1) [EN] The requirement for claiming priority of \"the same invention\", referred to in Article 87(1) EPC, means that priority of a previous application in respect of a claim in a Europ"
          ],
          [
           "27782631-c533-462f-bc27-012b07cd90a8",
           "G 3/98 (G980003EP1) [EN] For the calculation of the six-month period referred to in Article 55(1) EPC, the relevant date is the date of the actual filing of the European patent application; the date o"
          ],
          [
           "59efb089-75d4-4874-8486-41c9baccade9",
           "G 4/98 (G980004EP1) [EN] I. Without prejudice to Article 67(4) EPC, the designation of a contracting state party to the EPC in a European patent application does not retroactively lose its legal effec"
          ],
          [
           "5d2c59e9-9180-4d6b-8132-e607fff216bf",
           "G 4/98 (G980004EX1) [EN] I. Without prejudice to Article 67(4) EPC, the designation of a Contracting State party to the EPC in a European patent application does not retroactively lose its legal effec"
          ],
          [
           "69f9a653-9a35-4868-807b-6ebdfc668f65",
           "G 1/99 (G990001EP1) [EN] In principle, an amended claim, which would put the opponent and sole appellant in a worse situation than if it had not appealed, must be rejected. However, an exception to th"
          ],
          [
           "3f1bfb07-3b52-4320-ba03-1ce0b94aecc1",
           "G 3/99 (G990003EP1) [EN] I. An opposition filed in common by two or more persons, which otherwise meets the requirements of Article 99 EPC and Rules 1 and 55 EPC, is admissible on payment of only one "
          ],
          [
           "f1a6d356-9312-4dc3-b7c9-f8909095e92b",
           "G 3/99 (G990003EX1) [EN] 1. An opposition filed in common by two or more persons, which otherwise meets the requirements of Article 99 EPC and Rules 1 and 55 EPC, is admissible on payment of only one "
          ],
          [
           "850b12f4-2158-4ecd-9e52-4ab68345c152",
           "G 1/02 (G020001EP1) [EN] Points 4 and 6 of the Notice from the Vice-President Directorate-General 2 dated 28 April 1999 (OJ EPO 1999, 506) do not conflict with provisions of a higher level."
          ],
          [
           "46ca665e-7159-4ade-a177-a02ee96550ad",
           "G 2/02 (G020002EP1) [EN] The TRIPS Agreement does not entitle the applicant for a European patent application to claim priority from a first filing in a state which was not at the relevant dates a mem"
          ],
          [
           "06fcf68b-b624-4d1c-bc3b-b00cf3900eda",
           "G 2/02 (G020002EX1) [EN] The TRIPs Agreement does not entitle the applicant for a European patent application to claim priority from a first filing in a State which was not at the relevant dates a mem"
          ],
          [
           "c4b93c11-5976-4c23-9853-f6793cbbcf75",
           "G 1/03 (G030001EP1) [EN] I. An amendment to a claim by the introduction of a disclaimer may not be refused under Article 123(2) EPC for the sole reason that neither the disclaimer nor the subject-matt"
          ],
          [
           "23f26ca3-1311-4af6-a57f-8938143a1c68",
           "G 1/03 (G030001EX1) [EN] 1. An amendment to a claim by the introduction of a disclaimer may not be refused under Article 123(2) EPC for the sole reason that neither the disclaimer nor the subject-matt"
          ],
          [
           "0a649496-1ced-48a4-8440-671942898786",
           "G 3/03 (G030003EP1) [EN] I. In the event of interlocutory revision under Article 109(1) EPC, the department of the first instance whose decision has been appealed is not competent to refuse a request "
          ],
          [
           "ef4d577c-df30-48c5-a10f-d9a595dc5235",
           "G 3/03 (G030003EX1) [EN] 1.In the event of interlocutory revision under Article 109(1) EPC, the department of the first instance whose decision has been appealed is not competent to refuse a request o"
          ],
          [
           "414ae697-4e05-4d24-86a7-8f4dc1009abc",
           "G 1/04 (G040001EP1) [EN] I. In order that the subject-matter of a claim relating to a diagnostic method practised on the human or animal body falls under the prohibition of Article 52(4) EPC, the clai"
          ],
          [
           "c7a958bb-ed16-44b7-9eb6-0165c32a80cf",
           "G 1/04 (G040001EX1) [EN] 1. In order that the subject-matter of a claim relating to a diagnostic method practised on the human or animal body falls under the prohibition of Article 52(4) EPC, the clai"
          ],
          [
           "f8aecf40-32ff-4878-b17c-b7cd55af970a",
           "G 2/04 (G040002EP1) [EN] I. (a) The status as an opponent cannot be freely transferred. (b) A legal person who was a subsidiary of the opponent when the opposition was filed and who carries on the bus"
          ],
          [
           "3abc00c4-e61b-4866-a4c9-f5832db041d8",
           "G 2/04 (G040002EX1) [EN] (see Order)"
          ],
          [
           "e04e91fc-a1e1-46ad-b02f-3ff56503a064",
           "G 3/04 (G040003EP1) [EN] After withdrawal of the sole appeal, the proceedings may not be continued with a third party who intervened during the appeal proceedings."
          ],
          [
           "2a037555-8ff3-4570-a342-6b385eb1eb6d",
           "G 1/05 (G050001EP1) [EN] I. If a member of a Board of Appeal in a notice of withdrawal gives a ground which may by its nature constitute a possible ground for an objection of partiality that ground sh"
          ],
          [
           "27a6eea4-0f78-4435-9a54-6d1e835e2f5e",
           "G 1/05 (G050001EP2) [EN] So far as Article 76(1) EPC is concerned, a divisional application which at its actual date of filing contains subject-matter extending beyond the content of the earlier appli"
          ],
          [
           "66021f13-9acd-4ec0-b9e1-82e97a35e190",
           "G 1/05 (G050001EX2) [EN] So far as Article 76(1) EPC is concerned, a divisional application which at its actual date of filing contains subject- matter extending beyond the content of the earlier appl"
          ],
          [
           "f3d1f5b1-ed8c-4f0c-a690-4aa75aadbf2d",
           "G 1/06 (G060001EP1) [EN] In the case of a sequence of applications consisting of a root (originating) application followed by divisional applications, each divided from its predecessor, it is a necess"
          ],
          [
           "a30892bf-eaa7-4294-be17-2c4b8ba3a6e4",
           "G 1/06 (G060001EX1) [EN] In the case of a sequence of applications consisting of a root (originating) application followed by divisional applications, each divided from its predecessor, it is a necess"
          ],
          [
           "7e6fb1dd-7f19-4895-b320-aae8f8da8d21",
           "G 2/06 (G060002EP1) [EN] 1. The request for a preliminary ruling by the European Court of Justice on the questions suggested is rejected as inadmissible. 2. The questions referred to the Enlarged Boar"
          ],
          [
           "8039c3c6-5cdb-4376-81e7-1f975d377adb",
           "G 2/06 (G060002EX1) [EN] 1. The request for a preliminary ruling by the European Court of Justice on the questions suggested is rejected as inadmissible. 2. The questions referred to the Enlarged Boar"
          ],
          [
           "0997c7d0-219c-4392-8c90-4736e311f341",
           "G 1/07 (G070001EP1) [EN] The questions referred to the Enlarged Board of Appeal are answered as follows: 1. A claimed imaging method, in which, when carried out, maintaining the life and health of the"
          ],
          [
           "ea116d40-da9e-4dff-98f0-2f7062e33581",
           "G 2/07 (G070002EP1) [EN] The questions of law referred to the Enlarged Board of Appeal are answered as follows: 1. A non-microbiological process for the production of plants which contains or consists"
          ],
          [
           "60c5fc3d-b8a2-4a07-bf82-00ff76edc4bf",
           "G 2/08 (G080002EP1) [EN] The questions referred to the Enlarged Board of Appeal are answered as follows: Question 1: Where it is already known to use a medicament to treat an illness, Article 54(5) EP"
          ],
          [
           "6a514481-ebe6-4575-9006-695c161286b9",
           "G 3/08 (G080003EX1) [EN] 1. In exercising his or her right of referral a President of the EPO is entitled to make full use of the discretion granted by Article 112 (1) (b) EPC, even if his or her appr"
          ],
          [
           "dd7efdb2-a8be-4922-b14f-660f6aa5c328",
           "G 4/08 (G080004EP1) [EN] The Enlarged Board of Appeal, in response to the three points of law referred to it, concludes that: Question 1: If an international patent application has been filed and publ"
          ],
          [
           "b1ec9c7c-57d4-4b60-9b6e-2da2ee236c29",
           "G 1/09 (G090001EP1) [EN] In the case where no appeal is filed, a European Patent application which has been refused by a decision of the Examining Division is thereafter still pending within the meani"
          ],
          [
           "fe7b7ba8-b7bc-4b65-834a-8a95dba359dc",
           "G 1/10 (G100001EP1) [EN] The questions referred to the Enlarged Board of Appeal are answered as follows: 1. Since Rule 140 EPC is not available to correct the text of a patent, a patent proprietor's r"
          ],
          [
           "aed5e04b-9fc1-4cc4-9c6f-fb88326db2bf",
           "G 2/10 (G100002EP1) [EN] The question referred to the Enlarged Board of Appeal is answered as follows: 1a. An amendment to a claim by the introduction of a disclaimer disclaiming from it subject-matte"
          ],
          [
           "f06b825d-1ff7-4321-84c6-4e54367ec27b",
           "G 1/11 (G110001EP1) [EN] A technical board of appeal is competent to hear an appeal against an EPO examining division's decision  taken separately from its decision granting a patent or refusing the "
          ],
          [
           "8fb79b08-9d1e-43fd-87b3-34fff9dfd783",
           "G 1/12 (G120001EP1) [EN] The questions referred to the Enlarged Board of Appeal are answered as follows: Question (1): The answer to reformulated question (1) - namely whether when a notice of appeal,"
          ],
          [
           "f44df883-a77d-452c-9dc2-fe80d91ff639",
           "G 2/12 (G120002EP1) [EN] 1. The exclusion of essentially biological processes for the production of plants in Article 53(b) EPC does not have a negative effect on the allowability of a product claim d"
          ],
          [
           "7ebced04-bbbc-49a2-917c-aec8d9206d5f",
           "G 1/13 (G130001EP1) [EN] The questions referred to the Enlarged Board of Appeal are answered as follows: 1. Where an opposition is filed by a company which subsequently, under the relevant national la"
          ],
          [
           "c6c276c3-59d8-4885-8a14-04c54a1ace11",
           "G 2/13 (G130002EP1) [EN] 1. The exclusion of essentially biological processes for the production of plants in Article 53(b) EPC does not have a negative effect on the allowability of a product claim d"
          ],
          [
           "b20e003a-a56f-48c0-b715-0f3ee6b567a1",
           "G 1/14 (G140001EP1) [EN] 1. If a board of appeal refers a point of law to the Enlarged Board under Article 112(1)(a) EPC, it is primarily up to the former to explain, in its referral decision, that  "
          ],
          [
           "fd48f7a8-328f-4454-9e43-4e2e5aed5f57",
           "G 3/14 (G140003EP1) [EN] In considering whether, for the purposes of Article 101(3) EPC, a patent as amended meets the requirements of the EPC, the claims of the patent may be examined for compliance "
          ],
          [
           "c842c44c-16b2-4ee8-b1c2-dc11370ddc42",
           "G 1/15 (G150001EP1) [EN] Under the EPC, entitlement to partial priority may not be refused for a claim encompassing alternative subject-matter by virtue of one or more generic expressions or otherwise"
          ],
          [
           "bb0d1f91-6694-4e46-b5d9-25ca20f7e719",
           "G 2301/15 (G152301EU1) [EN] 1. The law-making bodies have so shaped the proceedings for a decision for a proposal under Article 23(1) EPC that they take proper judicial form. The arrangements laid dow"
          ],
          [
           "041536ef-c05b-4d7d-ae95-5322f590887a",
           "G 1/16 (G160001EP1) [EN] For the purpose of considering whether a claim amended by the introduction of an undisclosed disclaimer is allowable under Article 123(2) EPC, the disclaimer must fulfil one o"
          ],
          [
           "78b10489-874f-45e9-b360-8972417d256d",
           "G 2301/16 (G162301EU1) [EN] For the Enlarged Board to be able to continue with these proceedings the position of the Petitioner would have to be that it did not agree with the Office President and ack"
          ],
          [
           "50edb3a2-6e60-419d-975f-e6494b492351",
           "G 1/18 (G180001EP1) [EN] 1. An appeal is deemed not to have been filed in the following cases: (a) where notice of appeal was filed within the two-month time limit prescribed in Article 108, first sen"
          ],
          [
           "cacdf326-402d-44a0-b21c-b23b16d278b3",
           "G 1/19 (G190001EX1) [EN] A computer-implemented simulation of a technical system or process that is claimed as such can, for the purpose of assessing inventive step, solve a technical problem by produ"
          ],
          [
           "be6e7481-e71a-4679-b60c-f92fbd6d4150",
           "G 2/19 (G190002EP1) [EN] 1. A third party within the meaning of Article 115 EPC who has filed an appeal against a decision to grant a European patent has no right to have its request for an order that"
          ],
          [
           "a50e815c-f68c-40f9-99c1-ed3120a9d974",
           "G 3/19 (G190003EP1) [EN] Taking into account developments after decisions G 2/12 and G 2/13 of the Enlarged Board of Appeal, the exception to patentability of essentially biological processes for the "
          ],
          [
           "30d37769-e976-4f0e-bb1d-95dc2a01ac32",
           "G 4/19 (G190004EX1) [EN] 1. A European patent application can be refused under Articles 97(2) and 125 EPC if it claims the same subject-matter as a European patent which has been granted to the same a"
          ],
          [
           "87fbfae6-06e1-45f7-8b39-0f6fb22bc73d",
           "G 1/21 (G210001EX3) [EN] During a general emergency impairing the parties' possibilities to attend in-person oral proceedings at the EPO premises, the conduct of oral proceedings before the boards of "
          ],
          [
           "93602640-9857-4c4a-b7b1-9c31251e7ca3",
           "G 2/21 (G210002EU1) [EN] I. Evidence submitted by a patent applicant or proprietor to prove a technical effect relied upon for acknowledgement of inventive step of the claimed subject-matter may not b"
          ],
          [
           "93c0b42f-89a2-452d-8d6e-bc77f3a89b4b",
           "G 1/22 (G220001EU1) [EN] I. The European Patent Office is competent to assess whether a party is entitled to claim priority under Article 87(1) EPC. There is a rebuttable presumption under the autonom"
          ],
          [
           "c6f8827b-bbb7-46e6-a17d-4b057fe1aab0",
           "G 1/83 (G830001EP1) [EN] I. A European Patent with claims directed to the use may not be granted for the use of a substance or composition for the treatment of the human or animal body by therapy. II."
          ],
          [
           "486b6bbf-3028-4be4-83c5-ce9302502973",
           "G 5/83 (G830005EP1) [EN] I. A European Patent with claims directed to the use may not be granted for the use of a substance or composition for the treatment of the human or animal body by therapy. II."
          ],
          [
           "b0f8d513-8873-4e61-b961-fc01e76289b3",
           "G 1/84 (G840001EP1) [EN] A notice of opposition against a European patent is not inadmissible merely because it has been filed by the proprietor of that patent."
          ],
          [
           "bec9d992-354e-4581-8140-ba2e3985f10c",
           "G 1/86 (G860001EP1) [EN] Article 122 EPC is not to be interpreted as being applicable only to the applicant and patent proprietor. An appellant as opponent may have his rights re-established under Art"
          ],
          [
           "a66e59ee-ec51-4615-9a81-060d02486895",
           "G 1/88 (G880001EP1) [EN] The fact that an opponent has failed, within the time allowed, to make any observations on the text in which it is intended to maintain the European patent after being invited"
          ],
          [
           "20b85ee1-c706-4019-b5d0-3cb223b7dca4",
           "G 2/88 (G880002EP1) [EN] I. A change of category of granted claims in opposition proceedings is not open to objection under Article 123(3) EPC, if it does not result in extension of the protection con"
          ],
          [
           "a98b9179-abe0-47ba-9374-6fdd01228672",
           "G 4/88 (G880004EP1) [EN] An opposition pending before the European Patent Office may be transferred or assigned to a third party as part of the opponent's business assets together with the assets in t"
          ],
          [
           "dbebdf58-210e-46eb-8530-0d49c07224fe",
           "G 5/88 (G880005EP1) [EN] 1. The capacity of the President of the European Patent Office to represent the European Patent Organisation by virtue of Article 5(3) EPC is one of his functions but is not o"
          ],
          [
           "a55e1619-0acd-4e57-bff3-a3344767c32a",
           "G 6/88 (G880006EP1) [EN] A claim to the use of a known compound for a particular purpose, which is based on a technical effect which is described in the patent, should be interpreted as including that"
          ],
          [
           "977ac15e-8f29-4b49-9a83-405881155f66",
           "G 1/89 (G890001EP1) [EN] The agreement between the European Patent Organisation and WIPO dated 7 October 1987, including the obligation under its Article 2 for the EPO to be guided by the PCT guidelin"
          ],
          [
           "6559fb09-5799-4bc2-8680-6703594a7246",
           "G 2/89 (G890002EP1) [EN] The EPO in its function as an ISA may, pursuant to Article 17(3)(a) PCT, request a further search fee where the international application is considered to lack unity of invent"
          ],
          [
           "e8c6d2e2-f781-42d9-a3e6-e7c1a7eb98b1",
           "G 3/89 (G890003EP1) [EN] 1. The parts of a European patent application or of a European patent relating to the disclosure (the description, claims and drawings) may be corrected under Rule 88, second "
          ],
          [
           "a866ace8-f3f2-4d6b-8fe0-a25d2ccb40ae",
           "G 1/90 (G900001EP1) [EN] The revocation of a patent under Article 102(4) and (5) EPC requires a decision."
          ],
          [
           "1e6ae942-a3de-48ce-96d0-7db9f8e73074",
           "G 2/90 (G900002EP1) [EN] 1. Under Article 21(3)(c) EPC, the Legal Board of Appeal is competent only to hear appeals against decisions taken by an Examining Division consisting of fewer than four membe"
          ],
          [
           "5e305205-8ac7-4779-8a04-19f64aea010e",
           "G 1/91 (G910001EP1) [EN] Unity of invention (Article 82 EPC) does not come under the requirements that a European patent and the invention to which it relates must meet under Article 102(3) EPC when t"
          ],
          [
           "60cb92f6-efc4-4aba-afa7-3b7112fa3b74",
           "G 2/91 (G910002EP1) [EN] 1. A person who is entitled to appeal but does not do so and instead confines himself to being a party to the appeal proceedings under Article 107, second sentence, EPC, has n"
          ],
          [
           "2b4f06c7-c672-4c1b-a416-8e37401c5c2c",
           "G 3/91 (G910003EP1) [EN] Article 122(5) EPC is applicable both to the time limits provided for in Articles 78(2) and 79(2) EPC and to those provided for in Rule 104b(1)(b) and (c) EPC in conjunction w"
          ],
          [
           "c40af34f-b42d-4ef9-9219-f1a503576750",
           "G 4/91 (G910004EP1) [EN] I. It is a prerequisite for intervention in opposition proceedings by an assumed infringer pursuant to Article 105 EPC that there are opposition proceedings in existence at th"
          ],
          [
           "ac01d922-ec66-4bee-b507-34517cab1539",
           "G 5/91 (G910005EP1) [EN] 1. Although Article 24 EPC applies only to members of the Boards of Appeal and of the Enlarged Board of Appeal, the requirement of impartiality applies in principle also to em"
          ],
          [
           "ec98c645-e70b-4e15-816e-046246758cc5",
           "G 6/91 (G910006EP1) [EN] 1. The persons referred to in Article 14(2) EPC are entitled to the fee reduction under Rule 6(3) EPC if they file the essential item of the first act in filing, examination o"
          ],
          [
           "499c5afe-4e83-43dd-897a-65dfda9b6304",
           "G 7/91 (G910007EP1) [EN] In so far as the substantive issues settled by the contested decision at first instance are concerned, a Board of Appeal may not continue opposition appeal proceedings after t"
          ],
          [
           "218d5437-0926-4e33-a7ba-7a7a367c4bc1",
           "G 8/91 (G910008EP1) [EN] In so far as the substantive issues settled by the contested decision at first instance are concerned, appeal proceedings are terminated, in ex parte and inter partes proceedi"
          ],
          [
           "d313d960-1ed8-4f3d-9fc7-48c25dbd891a",
           "G 9/91 (G910009EP1) [EN] The power of an Opposition Division or a Board of Appeal to examine and decide on the maintenance of a European patent under Articles 101 and 102 EPC depends upon the extent t"
          ],
          [
           "b3f8350d-5c71-41c1-a562-fbf48c4efd2e",
           "G 10/91 (G910010EP1) [EN] 1. An Opposition Division or a Board of Appeal is not obliged to consider all the grounds for opposition referred to in Article 100 EPC, going beyond the grounds covered by t"
          ],
          [
           "f4b3a247-ee3c-408a-afad-936d6f9d129c",
           "G 10/91 (G910010EX1) [EN] 1. An Opposition Division or a Board of Appeal is not obliged to consider all the grounds for opposition referred to in Article 100 EPC, going beyond the grounds covered by t"
          ],
          [
           "14bcda2a-3f6f-4726-8645-32551670b4c2",
           "G 12/91 (G910012EP1) [EN] The decision-making process following written proceedings is completed on the date the decision to be notified is handed over to the EPO postal service by the decision-taking"
          ],
          [
           "cb30102b-bb86-45b8-ad04-c04e93f4dc65",
           "G 1/92 (G920001EP1) [EN] 1. The chemical composition of a product is state of the art when the product as such is available to the public and can be analysed and reproduced by the skilled person, irre"
          ],
          [
           "da666bc2-4052-4b80-a190-b6fea4ed880f",
           "G 2/92 (G920002EP1) [EN] An applicant who fails to pay the further search fees for a non-unitary application when requested to do so by the Search Division under Rule 46(1) EPC cannot pursue that appl"
          ],
          [
           "07471db9-7fdd-45dc-9933-f6da71e893d2",
           "G 3/92 (G920003EP1) [EN] When it has been adjudged by a final decision of a national court that a person other than the applicant is entitled to the grant of a European patent, and that person, in com"
          ],
          [
           "0fbca145-f2b6-4e48-b5c4-5adda527cbc4",
           "G 4/92 (G920004EP1) [EN] 1. A decision against a party who has been duly summoned but who fails to appear at oral proceedings may not be based on facts put forward for the first time during those oral"
          ],
          [
           "cf3d2f05-4fec-4e34-af19-cd52170619df",
           "G 5/92 (G920005EP1) [EN] The time limit under Article 94, paragraph 2, EPC is excluded from the restitutio in integrum by the provisions of paragraph 5 of Article 122 EPC."
          ],
          [
           "3c4fd242-bc07-4256-b3fa-c19f81a73756",
           "G 9/92 (G920009EP1) [EN] 1. If the patent proprietor is the sole appellant against an interlocutory decision maintaining a patent in amended form, neither the Board of Appeal nor the non-appealing opp"
          ],
          [
           "a8aa7b4c-9159-4904-a14d-8a679f472d3a",
           "G 10/92 (G920010EP1) [EN] Under the amended version of Rule 25 EPC in force since 1 October 1988 an applicant may only file a divisional application on the pending earlier European patent application "
          ],
          [
           "618c844f-ead4-4eec-8041-a2e3a935afa6",
           "G 1/93 (G930001EP1) [EN] 1. If a European patent as granted contains subject-matter which extends beyond the content of the application as filed within the meaning of Article 123(2) EPC and which also"
          ],
          [
           "ff4a0c93-9c21-4e1e-b1e1-5f7036490438",
           "G 1/93 (G930001EX1) [EN] 1. If a European patent as granted contains subject-matter which extends beyond the content of the application as filed in the sense of Article 123(2) EPC and which also limit"
          ],
          [
           "c62350a9-9346-4c1c-8723-dc4e7f8dad2c",
           "G 2/93 (G930002EP1) [EN] The information concerning the file number of a culture deposit according to Rule 28(1)(c) EPC may not be submitted after expiry of the time limit set out in Rule 28(2)(a) EPC"
          ],
          [
           "35e1c9d4-7332-48e3-a2bc-f76aaf9b3af2",
           "G 3/93 (G930003EP1) [EN] 1. A document published during the priority interval, the technical contents of which correspond to that of the priority document, constitutes prior art citable under Article "
          ],
          [
           "f6bac01e-571d-4ff7-a1cb-13918444b786",
           "G 4/93 (G930004EX1) [EN] I. If the patent proprietor is the sole appellant against an interlocutory decision maintaining a patent in amended form, neither the Board of Appeal nor the non-appealing opp"
          ],
          [
           "35e1408e-42e2-4a78-a62f-388b8db52f1a",
           "G 5/93 (G930005EP1) [EN] The provisions of Article 122(5) EPC apply to the time limits provided for in Rule 104b(1)(b)(i) and (ii) EPC in conjunction with Articles 157(2)(b) and 158(2) EPC. This notwi"
          ],
          [
           "761fe501-7ca2-4977-8fc4-b9fb08dd5c1d",
           "G 5/93 (G930005EX1) [EN] The provisions of Article 122(5) EPC apply to the time limits provided for in Rule 104b(1)(b) (i) and (ii) EPC in conjunction with Articles 157(2)(b) and 158(2) EPC. This noth"
          ],
          [
           "dcc0224d-5e33-49a8-9b97-db9e318b8cc7",
           "G 7/93 (G930007EP1) [EN] 1. An approval of a notified text submitted by an applicant pursuant to Rule 51(4) EPC does not become binding once a communication in accordance with Rule 51(6) EPC has been "
          ],
          [
           "8866c62c-f103-4842-8cd1-c97ad8a2268b",
           "G 7/93 (G930007EX1) [EN] I. An approval of a notified text submitted by an applicant pursuant to Rule 51(4) EPC does not become binding once a communication in accordance with Rule 51(6) EPC has been "
          ],
          [
           "35a71dc5-1ef4-4f11-8478-3696450ceeeb",
           "G 8/93 (G930008EP1) [EN] The filing by an opponent, who is sole appellant, of a statement withdrawing his opposition immediately and automatically terminates the appeal proceedings, irrespective of wh"
          ],
          [
           "5ec1d822-6958-4fac-be11-f89a2eb98404",
           "G 9/93 (G930009EP1) [EN] A European patent cannot be opposed by its own proprietor (overturns ruling in G 1/84)."
          ],
          [
           "f50ae2f0-05ab-424b-a8ba-daaee1ea7415",
           "G 10/93 (G930010EP1) [EN] In an appeal from a decision of an examining division in which a European patent application was refused the board of appeal has the power to examine whether the application "
          ],
          [
           "051aa4f5-556c-4492-b910-930789288ed7",
           "G 1/94 (G940001EP1) [EN] Intervention of the assumed infringer under Article 105 EPC is admissible during pending appeal proceedings and may be based on any ground for opposition under Article 100 EPC"
          ],
          [
           "8315d4a7-2fa3-4c66-b9d7-7800487af06f",
           "G 2/94 (G940002EP1) [EN] 1. A board of appeal has a discretion to allow an accompanying person (who is not entitled under Article 134(1) or (7) EPC to represent parties to proceedings before the EPO) "
          ],
          [
           "b7789fcd-9262-49eb-bd5f-b27eae038a1b",
           "G 1/95 (G950001EP1) [EN] In a case where a patent has been opposed on the grounds set out in Article 100(a) EPC, but the opposition has only been substantiated on the grounds of lack of novelty and la"
          ],
          [
           "4e70b8a0-030d-4f76-b40c-3453f659d2fb",
           "G 1/95 (G950001EX1) [EN] In a case where a patent has been opposed on the grounds set out in Article 100(a) EPC, but the opposition has only been substantiated on the grounds of lack of novelty and la"
          ],
          [
           "34424202-a940-41e7-a1bb-5925d5c230aa",
           "G 2/95 (G950002EP1) [EN] The point of law referred to the Enlarged Board of Appeal is to be answered as follows: The complete documents forming a European patent application, that is the description, "
          ],
          [
           "70b2bb07-87a2-4e40-ab6d-8acce8e9cea4",
           "G 3/95 (G950003EP1) [EN] 1. In decision T 356/93 (OJ EPO 1995, 545) it was held that a claim defining genetically modified plants having a distinct, stable, herbicide-resistance genetic characteristic"
          ],
          [
           "9fc75cc8-924f-46a8-b780-b386e4b1c728",
           "G 3/95 (G950003EX1) [EN] 1. In Decision T 356/93 (OJ EPO 1995, 545) it was held that a claim defining genetically modified plants having a distinct, stable, herbicide-resistance genetic characteristic"
          ],
          [
           "4d477bc2-2982-4136-954b-fdb5e526002b",
           "G 4/95 (G950004EP1) [EN] 1. During oral proceedings under Article 116 EPC in the context of opposition or opposition appeal proceedings, a person accompanying the professional representative of a part"
          ],
          [
           "fa0ab81a-a731-434b-a375-373dbf497ef1",
           "G 4/95 (G950004EX1) [EN] I. During oral proceedings under Article 116 EPC in the context of opposition or opposition appeal proceedings, a person accompanying the professional representative of a part"
          ],
          [
           "afa397cb-26be-423b-bc17-8606638866a2",
           "G 6/95 (G950006EP1) [EN] Rule 71a(1) EPC does not apply to the boards of appeal."
          ],
          [
           "c9f7ce95-cbf8-4f51-bfe7-bfb9add81cce",
           "G 6/95 (G950006EX1) [EN] Rule 71a(1) EPC does not apply to the Boards of Appeal."
          ],
          [
           "0212385b-0327-41af-bb21-3a37188dae6f",
           "G 7/95 (G950007EP1) [EN] In a case where a patent has been opposed under Article 100(a) EPC on the ground that the claims lack an inventive step in view of documents cited in the notice of opposition,"
          ],
          [
           "0127d13e-dfe4-4e13-ae27-00801aedf285",
           "G 7/95 (G950007EX1) [EN] In a case where a patent has been opposed under Article 100(a) EPC on the ground that the claims lack an inventive step in view of documents cited in the notice of opposition,"
          ],
          [
           "54957b83-33ba-4189-990d-075cf3bc7892",
           "G 8/95 (G950008EP1) [EN] An appeal from a decision of an Examining Division refusing a request under Rule 89 EPC for correction of the decision to grant is to be decided by a technical board of Appeal"
          ],
          [
           "f8b05c30-38c4-4962-b492-04757f3d25c7",
           "G 8/95 (G950008EX1) [EN] An appeal from a decision of an Examining Division refusing a request under Rule 89 EPC for correction of the decision to grant is to be decided by a Technical Board of Appeal"
          ],
          [
           "73ff6fec-53ce-4aea-aa6a-faea338e13b2",
           "G 1/97 (G970001EP1) [EN] I. In the context of the European Patent Convention, the jurisdictional measure to be taken in response to requests based on the alleged violation of a fundamental procedural "
          ],
          [
           "ffb8a374-9e74-4075-b550-84d98c00650a",
           "G 2/97 (G970002EP1) [EN] The principle of good faith does not impose any obligation on the boards of appeal to notify an appellant that an appeal fee is missing when the notice of appeal is filed so e"
          ],
          [
           "0a4d559e-b808-48fd-80b6-940bf76e5169",
           "G 2/97 (G970002EX1) [EN] The principle of good faith does not impose any obligation on the boards of appeal to notify an appellant that an appeal fee is missing when the notice of appeal is filed so e"
          ],
          [
           "1462a3e3-61ce-43f2-af3c-c214d247ae38",
           "G 3/97 (G970003EP1) [EN] 1(a): An opposition is not inadmissible purely because the person named as opponent according to Rule 55(a) EPC is acting on behalf of a third party. 1(b): Such an opposition "
          ],
          [
           "d061c8e2-1242-4ce5-8ab5-b688bf5db33d",
           "G 4/97 (G970004EP1) [EN] 1(a): An opposition is not inadmissible purely because the person named as opponent according to Rule 55(a) EPC is acting on behalf of a third party. 1(b): Such an opposition "
          ],
          [
           "f754a32f-acd1-4aac-b52b-48fa8bf429aa",
           "G 1/98 (G980001EP1) [EN] I. A claim wherein specific plant varieties are not individually claimed is not excluded from patentability under Article 53(b) EPC even though it may embrace plant varieties."
          ],
          [
           "5ecf948a-eb94-49ff-8e6b-320953c2b95a",
           "G 1/98 (G980001EX1) [EN] I. A claim wherein specific plant varieties are not individually claimed is not excluded from patentability under Article 53(b), EPC even though it may embrace plant varieties"
          ],
          [
           "162098c6-6976-4e33-b141-9dba91014aaa",
           "G 2/98 (G980002EP1) [EN] The requirement for claiming priority of \"the same invention\", referred to in Article 87(1) EPC, means that priority of a previous application in respect of a claim in a Europ"
          ],
          [
           "3cdc0ee2-9fa8-47b7-9841-c49df9bc97a4",
           "G 3/98 (G980003EP1) [EN] For the calculation of the six-month period referred to in Article 55(1) EPC, the relevant date is the date of the actual filing of the European patent application; the date o"
          ],
          [
           "c81a06e3-1699-4ec6-b6d9-db1d164d56b0",
           "G 4/98 (G980004EP1) [EN] I. Without prejudice to Article 67(4) EPC, the designation of a contracting state party to the EPC in a European patent application does not retroactively lose its legal effec"
          ],
          [
           "fe3ac1d8-e768-4888-b13a-260aea4c8e78",
           "G 4/98 (G980004EX1) [EN] I. Without prejudice to Article 67(4) EPC, the designation of a Contracting State party to the EPC in a European patent application does not retroactively lose its legal effec"
          ],
          [
           "61a8ba77-6e65-463c-93b7-88bf2a2b01af",
           "G 1/99 (G990001EP1) [EN] In principle, an amended claim, which would put the opponent and sole appellant in a worse situation than if it had not appealed, must be rejected. However, an exception to th"
          ],
          [
           "aaa88872-3e2d-4606-a69b-3fd971a9a68d",
           "G 3/99 (G990003EP1) [EN] I. An opposition filed in common by two or more persons, which otherwise meets the requirements of Article 99 EPC and Rules 1 and 55 EPC, is admissible on payment of only one "
          ],
          [
           "4f458039-6024-42ad-beb5-4c151e34ea60",
           "G 3/99 (G990003EX1) [EN] 1. An opposition filed in common by two or more persons, which otherwise meets the requirements of Article 99 EPC and Rules 1 and 55 EPC, is admissible on payment of only one "
          ]
         ],
         "hovertemplate": "x=%{x}<br>y=%{y}<br>z=%{z}<br>id=%{customdata[0]}<br>text=%{customdata[1]}<extra></extra>",
         "legendgroup": "",
         "marker": {
          "color": "#636efa",
          "symbol": "circle"
         },
         "mode": "markers",
         "name": "",
         "scene": "scene",
         "showlegend": false,
         "type": "scatter3d",
         "x": {
          "bdata": "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",
          "dtype": "f8"
         },
         "y": {
          "bdata": "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",
          "dtype": "f8"
         },
         "z": {
          "bdata": "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",
          "dtype": "f8"
         }
        },
        {
         "mode": "text",
         "showlegend": false,
         "text": [
          "G 1/02 ",
          "G 2/02 ",
          "G 2/02 ",
          "G 1/03 ",
          "G 1/03 ",
          "G 3/03 ",
          "G 3/03 ",
          "G 1/04 ",
          "G 1/04 ",
          "G 2/04 ",
          "G 2/04 ",
          "G 3/04 ",
          "G 1/05 ",
          "G 1/05 ",
          "G 1/05 ",
          "G 1/06 ",
          "G 1/06 ",
          "G 2/06 ",
          "G 2/06 ",
          "G 1/07 ",
          "G 2/07 ",
          "G 2/08 ",
          "G 3/08 ",
          "G 4/08 ",
          "G 1/09 ",
          "G 1/10 ",
          "G 2/10 ",
          "G 1/11 ",
          "G 1/12 ",
          "G 2/12 ",
          "G 1/13 ",
          "G 2/13 ",
          "G 1/14 ",
          "G 3/14 ",
          "G 1/15 ",
          "G 2301/",
          "G 1/16 ",
          "G 2301/",
          "G 1/18 ",
          "G 1/19 ",
          "G 2/19 ",
          "G 3/19 ",
          "G 4/19 ",
          "G 1/21 ",
          "G 2/21 ",
          "G 1/22 ",
          "G 1/83 ",
          "G 5/83 ",
          "G 1/84 ",
          "G 1/86 ",
          "G 1/88 ",
          "G 2/88 ",
          "G 4/88 ",
          "G 5/88 ",
          "G 6/88 ",
          "G 1/89 ",
          "G 2/89 ",
          "G 3/89 ",
          "G 1/90 ",
          "G 2/90 ",
          "G 1/91 ",
          "G 2/91 ",
          "G 3/91 ",
          "G 4/91 ",
          "G 5/91 ",
          "G 6/91 ",
          "G 7/91 ",
          "G 8/91 ",
          "G 9/91 ",
          "G 10/91",
          "G 10/91",
          "G 12/91",
          "G 1/92 ",
          "G 2/92 ",
          "G 3/92 ",
          "G 4/92 ",
          "G 5/92 ",
          "G 9/92 ",
          "G 10/92",
          "G 1/93 ",
          "G 1/93 ",
          "G 2/93 ",
          "G 3/93 ",
          "G 4/93 ",
          "G 5/93 ",
          "G 5/93 ",
          "G 7/93 ",
          "G 7/93 ",
          "G 8/93 ",
          "G 9/93 ",
          "G 10/93",
          "G 1/94 ",
          "G 2/94 ",
          "G 1/95 ",
          "G 1/95 ",
          "G 2/95 ",
          "G 3/95 ",
          "G 3/95 ",
          "G 4/95 ",
          "G 4/95 ",
          "G 6/95 ",
          "G 6/95 ",
          "G 7/95 ",
          "G 7/95 ",
          "G 8/95 ",
          "G 8/95 ",
          "G 1/97 ",
          "G 2/97 ",
          "G 2/97 ",
          "G 3/97 ",
          "G 4/97 ",
          "G 1/98 ",
          "G 1/98 ",
          "G 2/98 ",
          "G 3/98 ",
          "G 4/98 ",
          "G 4/98 ",
          "G 1/99 ",
          "G 3/99 ",
          "G 3/99 ",
          "G 1/02 ",
          "G 2/02 ",
          "G 2/02 ",
          "G 1/03 ",
          "G 1/03 ",
          "G 3/03 ",
          "G 3/03 ",
          "G 1/04 ",
          "G 1/04 ",
          "G 2/04 ",
          "G 2/04 ",
          "G 3/04 ",
          "G 1/05 ",
          "G 1/05 ",
          "G 1/05 ",
          "G 1/06 ",
          "G 1/06 ",
          "G 2/06 ",
          "G 2/06 ",
          "G 1/07 ",
          "G 2/07 ",
          "G 2/08 ",
          "G 3/08 ",
          "G 4/08 ",
          "G 1/09 ",
          "G 1/10 ",
          "G 2/10 ",
          "G 1/11 ",
          "G 1/12 ",
          "G 2/12 ",
          "G 1/13 ",
          "G 2/13 ",
          "G 1/14 ",
          "G 3/14 ",
          "G 1/15 ",
          "G 2301/",
          "G 1/16 ",
          "G 2301/",
          "G 1/18 ",
          "G 1/19 ",
          "G 2/19 ",
          "G 3/19 ",
          "G 4/19 ",
          "G 1/21 ",
          "G 2/21 ",
          "G 1/22 ",
          "G 1/83 ",
          "G 5/83 ",
          "G 1/84 ",
          "G 1/86 ",
          "G 1/88 ",
          "G 2/88 ",
          "G 4/88 ",
          "G 5/88 ",
          "G 6/88 ",
          "G 1/89 ",
          "G 2/89 ",
          "G 3/89 ",
          "G 1/90 ",
          "G 2/90 ",
          "G 1/91 ",
          "G 2/91 ",
          "G 3/91 ",
          "G 4/91 ",
          "G 5/91 ",
          "G 6/91 ",
          "G 7/91 ",
          "G 8/91 ",
          "G 9/91 ",
          "G 10/91",
          "G 10/91",
          "G 12/91",
          "G 1/92 ",
          "G 2/92 ",
          "G 3/92 ",
          "G 4/92 ",
          "G 5/92 ",
          "G 9/92 ",
          "G 10/92",
          "G 1/93 ",
          "G 1/93 ",
          "G 2/93 ",
          "G 3/93 ",
          "G 4/93 ",
          "G 5/93 ",
          "G 5/93 ",
          "G 7/93 ",
          "G 7/93 ",
          "G 8/93 ",
          "G 9/93 ",
          "G 10/93",
          "G 1/94 ",
          "G 2/94 ",
          "G 1/95 ",
          "G 1/95 ",
          "G 2/95 ",
          "G 3/95 ",
          "G 3/95 ",
          "G 4/95 ",
          "G 4/95 ",
          "G 6/95 ",
          "G 6/95 ",
          "G 7/95 ",
          "G 7/95 ",
          "G 8/95 ",
          "G 8/95 ",
          "G 1/97 ",
          "G 2/97 ",
          "G 2/97 ",
          "G 3/97 ",
          "G 4/97 ",
          "G 1/98 ",
          "G 1/98 ",
          "G 2/98 ",
          "G 3/98 ",
          "G 4/98 ",
          "G 4/98 ",
          "G 1/99 ",
          "G 3/99 ",
          "G 3/99 "
         ],
         "textfont": {
          "size": 10
         },
         "type": "scatter3d",
         "x": {
          "bdata": "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",
          "dtype": "f8"
         },
         "y": {
          "bdata": "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",
          "dtype": "f8"
         },
         "z": {
          "bdata": "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",
          "dtype": "f8"
         }
        }
       ],
       "layout": {
        "height": 750,
        "legend": {
         "tracegroupgap": 0
        },
        "scene": {
         "domain": {
          "x": [
           0,
           1
          ],
          "y": [
           0,
           1
          ]
         },
         "xaxis": {
          "title": {
           "text": "x"
          }
         },
         "yaxis": {
          "title": {
           "text": "y"
          }
         },
         "zaxis": {
          "title": {
           "text": "z"
          }
         }
        },
        "template": {
         "data": {
          "bar": [
           {
            "error_x": {
             "color": "#2a3f5f"
            },
            "error_y": {
             "color": "#2a3f5f"
            },
            "marker": {
             "line": {
              "color": "#E5ECF6",
              "width": 0.5
             },
             "pattern": {
              "fillmode": "overlay",
              "size": 10,
              "solidity": 0.2
             }
            },
            "type": "bar"
           }
          ],
          "barpolar": [
           {
            "marker": {
             "line": {
              "color": "#E5ECF6",
              "width": 0.5
             },
             "pattern": {
              "fillmode": "overlay",
              "size": 10,
              "solidity": 0.2
             }
            },
            "type": "barpolar"
           }
          ],
          "carpet": [
           {
            "aaxis": {
             "endlinecolor": "#2a3f5f",
             "gridcolor": "white",
             "linecolor": "white",
             "minorgridcolor": "white",
             "startlinecolor": "#2a3f5f"
            },
            "baxis": {
             "endlinecolor": "#2a3f5f",
             "gridcolor": "white",
             "linecolor": "white",
             "minorgridcolor": "white",
             "startlinecolor": "#2a3f5f"
            },
            "type": "carpet"
           }
          ],
          "choropleth": [
           {
            "colorbar": {
             "outlinewidth": 0,
             "ticks": ""
            },
            "type": "choropleth"
           }
          ],
          "contour": [
           {
            "colorbar": {
             "outlinewidth": 0,
             "ticks": ""
            },
            "colorscale": [
             [
              0,
              "#0d0887"
             ],
             [
              0.1111111111111111,
              "#46039f"
             ],
             [
              0.2222222222222222,
              "#7201a8"
             ],
             [
              0.3333333333333333,
              "#9c179e"
             ],
             [
              0.4444444444444444,
              "#bd3786"
             ],
             [
              0.5555555555555556,
              "#d8576b"
             ],
             [
              0.6666666666666666,
              "#ed7953"
             ],
             [
              0.7777777777777778,
              "#fb9f3a"
             ],
             [
              0.8888888888888888,
              "#fdca26"
             ],
             [
              1,
              "#f0f921"
             ]
            ],
            "type": "contour"
           }
          ],
          "contourcarpet": [
           {
            "colorbar": {
             "outlinewidth": 0,
             "ticks": ""
            },
            "type": "contourcarpet"
           }
          ],
          "heatmap": [
           {
            "colorbar": {
             "outlinewidth": 0,
             "ticks": ""
            },
            "colorscale": [
             [
              0,
              "#0d0887"
             ],
             [
              0.1111111111111111,
              "#46039f"
             ],
             [
              0.2222222222222222,
              "#7201a8"
             ],
             [
              0.3333333333333333,
              "#9c179e"
             ],
             [
              0.4444444444444444,
              "#bd3786"
             ],
             [
              0.5555555555555556,
              "#d8576b"
             ],
             [
              0.6666666666666666,
              "#ed7953"
             ],
             [
              0.7777777777777778,
              "#fb9f3a"
             ],
             [
              0.8888888888888888,
              "#fdca26"
             ],
             [
              1,
              "#f0f921"
             ]
            ],
            "type": "heatmap"
           }
          ],
          "histogram": [
           {
            "marker": {
             "pattern": {
              "fillmode": "overlay",
              "size": 10,
              "solidity": 0.2
             }
            },
            "type": "histogram"
           }
          ],
          "histogram2d": [
           {
            "colorbar": {
             "outlinewidth": 0,
             "ticks": ""
            },
            "colorscale": [
             [
              0,
              "#0d0887"
             ],
             [
              0.1111111111111111,
              "#46039f"
             ],
             [
              0.2222222222222222,
              "#7201a8"
             ],
             [
              0.3333333333333333,
              "#9c179e"
             ],
             [
              0.4444444444444444,
              "#bd3786"
             ],
             [
              0.5555555555555556,
              "#d8576b"
             ],
             [
              0.6666666666666666,
              "#ed7953"
             ],
             [
              0.7777777777777778,
              "#fb9f3a"
             ],
             [
              0.8888888888888888,
              "#fdca26"
             ],
             [
              1,
              "#f0f921"
             ]
            ],
            "type": "histogram2d"
           }
          ],
          "histogram2dcontour": [
           {
            "colorbar": {
             "outlinewidth": 0,
             "ticks": ""
            },
            "colorscale": [
             [
              0,
              "#0d0887"
             ],
             [
              0.1111111111111111,
              "#46039f"
             ],
             [
              0.2222222222222222,
              "#7201a8"
             ],
             [
              0.3333333333333333,
              "#9c179e"
             ],
             [
              0.4444444444444444,
              "#bd3786"
             ],
             [
              0.5555555555555556,
              "#d8576b"
             ],
             [
              0.6666666666666666,
              "#ed7953"
             ],
             [
              0.7777777777777778,
              "#fb9f3a"
             ],
             [
              0.8888888888888888,
              "#fdca26"
             ],
             [
              1,
              "#f0f921"
             ]
            ],
            "type": "histogram2dcontour"
           }
          ],
          "mesh3d": [
           {
            "colorbar": {
             "outlinewidth": 0,
             "ticks": ""
            },
            "type": "mesh3d"
           }
          ],
          "parcoords": [
           {
            "line": {
             "colorbar": {
              "outlinewidth": 0,
              "ticks": ""
             }
            },
            "type": "parcoords"
           }
          ],
          "pie": [
           {
            "automargin": true,
            "type": "pie"
           }
          ],
          "scatter": [
           {
            "fillpattern": {
             "fillmode": "overlay",
             "size": 10,
             "solidity": 0.2
            },
            "type": "scatter"
           }
          ],
          "scatter3d": [
           {
            "line": {
             "colorbar": {
              "outlinewidth": 0,
              "ticks": ""
             }
            },
            "marker": {
             "colorbar": {
              "outlinewidth": 0,
              "ticks": ""
             }
            },
            "type": "scatter3d"
           }
          ],
          "scattercarpet": [
           {
            "marker": {
             "colorbar": {
              "outlinewidth": 0,
              "ticks": ""
             }
            },
            "type": "scattercarpet"
           }
          ],
          "scattergeo": [
           {
            "marker": {
             "colorbar": {
              "outlinewidth": 0,
              "ticks": ""
             }
            },
            "type": "scattergeo"
           }
          ],
          "scattergl": [
           {
            "marker": {
             "colorbar": {
              "outlinewidth": 0,
              "ticks": ""
             }
            },
            "type": "scattergl"
           }
          ],
          "scattermap": [
           {
            "marker": {
             "colorbar": {
              "outlinewidth": 0,
              "ticks": ""
             }
            },
            "type": "scattermap"
           }
          ],
          "scattermapbox": [
           {
            "marker": {
             "colorbar": {
              "outlinewidth": 0,
              "ticks": ""
             }
            },
            "type": "scattermapbox"
           }
          ],
          "scatterpolar": [
           {
            "marker": {
             "colorbar": {
              "outlinewidth": 0,
              "ticks": ""
             }
            },
            "type": "scatterpolar"
           }
          ],
          "scatterpolargl": [
           {
            "marker": {
             "colorbar": {
              "outlinewidth": 0,
              "ticks": ""
             }
            },
            "type": "scatterpolargl"
           }
          ],
          "scatterternary": [
           {
            "marker": {
             "colorbar": {
              "outlinewidth": 0,
              "ticks": ""
             }
            },
            "type": "scatterternary"
           }
          ],
          "surface": [
           {
            "colorbar": {
             "outlinewidth": 0,
             "ticks": ""
            },
            "colorscale": [
             [
              0,
              "#0d0887"
             ],
             [
              0.1111111111111111,
              "#46039f"
             ],
             [
              0.2222222222222222,
              "#7201a8"
             ],
             [
              0.3333333333333333,
              "#9c179e"
             ],
             [
              0.4444444444444444,
              "#bd3786"
             ],
             [
              0.5555555555555556,
              "#d8576b"
             ],
             [
              0.6666666666666666,
              "#ed7953"
             ],
             [
              0.7777777777777778,
              "#fb9f3a"
             ],
             [
              0.8888888888888888,
              "#fdca26"
             ],
             [
              1,
              "#f0f921"
             ]
            ],
            "type": "surface"
           }
          ],
          "table": [
           {
            "cells": {
             "fill": {
              "color": "#EBF0F8"
             },
             "line": {
              "color": "white"
             }
            },
            "header": {
             "fill": {
              "color": "#C8D4E3"
             },
             "line": {
              "color": "white"
             }
            },
            "type": "table"
           }
          ]
         },
         "layout": {
          "annotationdefaults": {
           "arrowcolor": "#2a3f5f",
           "arrowhead": 0,
           "arrowwidth": 1
          },
          "autotypenumbers": "strict",
          "coloraxis": {
           "colorbar": {
            "outlinewidth": 0,
            "ticks": ""
           }
          },
          "colorscale": {
           "diverging": [
            [
             0,
             "#8e0152"
            ],
            [
             0.1,
             "#c51b7d"
            ],
            [
             0.2,
             "#de77ae"
            ],
            [
             0.3,
             "#f1b6da"
            ],
            [
             0.4,
             "#fde0ef"
            ],
            [
             0.5,
             "#f7f7f7"
            ],
            [
             0.6,
             "#e6f5d0"
            ],
            [
             0.7,
             "#b8e186"
            ],
            [
             0.8,
             "#7fbc41"
            ],
            [
             0.9,
             "#4d9221"
            ],
            [
             1,
             "#276419"
            ]
           ],
           "sequential": [
            [
             0,
             "#0d0887"
            ],
            [
             0.1111111111111111,
             "#46039f"
            ],
            [
             0.2222222222222222,
             "#7201a8"
            ],
            [
             0.3333333333333333,
             "#9c179e"
            ],
            [
             0.4444444444444444,
             "#bd3786"
            ],
            [
             0.5555555555555556,
             "#d8576b"
            ],
            [
             0.6666666666666666,
             "#ed7953"
            ],
            [
             0.7777777777777778,
             "#fb9f3a"
            ],
            [
             0.8888888888888888,
             "#fdca26"
            ],
            [
             1,
             "#f0f921"
            ]
           ],
           "sequentialminus": [
            [
             0,
             "#0d0887"
            ],
            [
             0.1111111111111111,
             "#46039f"
            ],
            [
             0.2222222222222222,
             "#7201a8"
            ],
            [
             0.3333333333333333,
             "#9c179e"
            ],
            [
             0.4444444444444444,
             "#bd3786"
            ],
            [
             0.5555555555555556,
             "#d8576b"
            ],
            [
             0.6666666666666666,
             "#ed7953"
            ],
            [
             0.7777777777777778,
             "#fb9f3a"
            ],
            [
             0.8888888888888888,
             "#fdca26"
            ],
            [
             1,
             "#f0f921"
            ]
           ]
          },
          "colorway": [
           "#636efa",
           "#EF553B",
           "#00cc96",
           "#ab63fa",
           "#FFA15A",
           "#19d3f3",
           "#FF6692",
           "#B6E880",
           "#FF97FF",
           "#FECB52"
          ],
          "font": {
           "color": "#2a3f5f"
          },
          "geo": {
           "bgcolor": "white",
           "lakecolor": "white",
           "landcolor": "#E5ECF6",
           "showlakes": true,
           "showland": true,
           "subunitcolor": "white"
          },
          "hoverlabel": {
           "align": "left"
          },
          "hovermode": "closest",
          "mapbox": {
           "style": "light"
          },
          "paper_bgcolor": "white",
          "plot_bgcolor": "#E5ECF6",
          "polar": {
           "angularaxis": {
            "gridcolor": "white",
            "linecolor": "white",
            "ticks": ""
           },
           "bgcolor": "#E5ECF6",
           "radialaxis": {
            "gridcolor": "white",
            "linecolor": "white",
            "ticks": ""
           }
          },
          "scene": {
           "xaxis": {
            "backgroundcolor": "#E5ECF6",
            "gridcolor": "white",
            "gridwidth": 2,
            "linecolor": "white",
            "showbackground": true,
            "ticks": "",
            "zerolinecolor": "white"
           },
           "yaxis": {
            "backgroundcolor": "#E5ECF6",
            "gridcolor": "white",
            "gridwidth": 2,
            "linecolor": "white",
            "showbackground": true,
            "ticks": "",
            "zerolinecolor": "white"
           },
           "zaxis": {
            "backgroundcolor": "#E5ECF6",
            "gridcolor": "white",
            "gridwidth": 2,
            "linecolor": "white",
            "showbackground": true,
            "ticks": "",
            "zerolinecolor": "white"
           }
          },
          "shapedefaults": {
           "line": {
            "color": "#2a3f5f"
           }
          },
          "ternary": {
           "aaxis": {
            "gridcolor": "white",
            "linecolor": "white",
            "ticks": ""
           },
           "baxis": {
            "gridcolor": "white",
            "linecolor": "white",
            "ticks": ""
           },
           "bgcolor": "#E5ECF6",
           "caxis": {
            "gridcolor": "white",
            "linecolor": "white",
            "ticks": ""
           }
          },
          "title": {
           "x": 0.05
          },
          "xaxis": {
           "automargin": true,
           "gridcolor": "white",
           "linecolor": "white",
           "ticks": "",
           "title": {
            "standoff": 15
           },
           "zerolinecolor": "white",
           "zerolinewidth": 2
          },
          "yaxis": {
           "automargin": true,
           "gridcolor": "white",
           "linecolor": "white",
           "ticks": "",
           "title": {
            "standoff": 15
           },
           "zerolinecolor": "white",
           "zerolinewidth": 2
          }
         }
        },
        "title": {
         "text": "Embeddings (PCA → 3D)"
        }
       }
      },
      "image/png": "[encoded data removed]"
     },
     "metadata": {},
     "output_type": "display_data"
    },
    {
     "name": "stdout",
     "output_type": "stream",
     "text": [
      "Punkte: 240 Embeddings-Shape: (240, 768)\n"
     ]
    }
   ],
   "source": [
    "import numpy as np, pandas as pd\n",
    "from sklearn.decomposition import PCA\n",
    "import plotly.express as px, plotly.graph_objects as go\n",
    "import plotly.io as pio\n",
    "from IPython.display import display\n",
    "\n",
    "pio.renderers.default = \"plotly_mimetype\"   # oder \"notebook_connected\"\n",
    "\n",
    "vs = vector_store_loaded\n",
    "\n",
    "# Daten holen (ohne 'ids' in include!)\n",
    "n = vs._collection.count()\n",
    "data = vs._collection.get(include=[\"embeddings\",\"documents\",\"metadatas\"], limit=n)\n",
    "\n",
    "embeddings = np.asarray(data[\"embeddings\"], dtype=float)\n",
    "ids   = data.get(\"ids\") or [str(i) for i in range(len(embeddings))]\n",
    "docs  = data.get(\"documents\") or [\"\"] * len(embeddings)\n",
    "metas = data.get(\"metadatas\") or [{}] * len(embeddings)\n",
    "\n",
    "# Robustheit\n",
    "mask = np.isfinite(embeddings).all(axis=1)\n",
    "embeddings = embeddings[mask]\n",
    "ids   = [i for i, m in zip(ids, mask) if m]\n",
    "docs  = [d for d, m in zip(docs, mask) if m]\n",
    "metas = [m for m, msk in zip(metas, mask) if msk]\n",
    "\n",
    "# PCA → 3D\n",
    "pca = PCA(n_components=3, random_state=42)\n",
    "reduced = pca.fit_transform(embeddings)\n",
    "\n",
    "df = pd.DataFrame(metas)\n",
    "df.insert(0, \"id\", ids)\n",
    "# Volltext-Snippet (für Hover)\n",
    "df[\"text\"] = [(d or \"\").replace(\"\\n\",\" \")[:200] for d in docs]\n",
    "# NEU: Label (erste 7 Zeichen der Docs, bereinigt)\n",
    "df[\"label7\"] = [((d or \"\").replace(\"\\n\",\" \").strip())[:7] or \"…\" for d in docs]\n",
    "\n",
    "df[\"x\"], df[\"y\"], df[\"z\"] = reduced[:,0], reduced[:,1], reduced[:,2]\n",
    "\n",
    "color_by = \"source\" if \"source\" in df.columns else None\n",
    "\n",
    "fig = px.scatter_3d(\n",
    "    df, x=\"x\", y=\"y\", z=\"z\",\n",
    "    color=color_by,\n",
    "    hover_data=[\"id\",\"text\"] + ([color_by] if color_by else []),\n",
    "    height=750,\n",
    "    title=\"Embeddings (PCA → 3D)\"\n",
    ")\n",
    "\n",
    "# Labels nur für wenige Punkte (z. B. die ersten 40)\n",
    "#label_n = min(40, len(df))\n",
    "lab = df\n",
    "fig.add_trace(go.Scatter3d(\n",
    "    x=lab[\"x\"], y=lab[\"y\"], z=lab[\"z\"],\n",
    "    mode=\"text\",                 # \"markers+text\" für Punkte + Text\n",
    "    text=lab[\"label7\"],          # <- hier kommen die 7-Zeichen-Labels hin\n",
    "    showlegend=False,\n",
    "    textfont=dict(size=10)\n",
    "))\n",
    "\n",
    "# Anzeige erzwingen\n",
    "display(fig)\n",
    "fig.show()\n",
    "\n",
    "# Fallback: als HTML speichern (öffnet Browser)\n",
    "fig.write_html(\"embedding_plot_3d.html\", include_plotlyjs=\"inline\", auto_open=True)\n",
    "\n",
    "print(\"Punkte:\", len(df), \"Embeddings-Shape:\", embeddings.shape)\n"
   ]
  },
  {
   "cell_type": "markdown",
   "id": "d01aa7ea-f3e6-4105-a4d4-823eb342404a",
   "metadata": {},
   "source": [
    "Convert vector store to TSV"
   ]
  },
  {
   "cell_type": "code",
   "execution_count": 12,
   "id": "cd2b8906-c372-46a0-801f-1496d7f1e8ab",
   "metadata": {},
   "outputs": [
    {
     "name": "stderr",
     "output_type": "stream",
     "text": [
      "Failed to send telemetry event ClientStartEvent: capture() takes 1 positional argument but 3 were given\n",
      "Failed to send telemetry event ClientCreateCollectionEvent: capture() takes 1 positional argument but 3 were given\n"
     ]
    },
    {
     "name": "stdout",
     "output_type": "stream",
     "text": [
      "[OK] Exportiert nach vector_store.tsv\n"
     ]
    }
   ],
   "source": [
    "import csv\n",
    "from langchain_chroma import Chroma\n",
    "from langchain_community.embeddings import OllamaEmbeddings\n",
    "from chromadb.config import Settings\n",
    "\n",
    "PERSIST_DIR = \"./chroma_langchain\"\n",
    "EMBED_MODEL = \"nomic-embed-text\"\n",
    "\n",
    "def export_to_tsv(persist_dir, embed_model, out_file=\"vector_store.tsv\"):\n",
    "    # Embeddings initialisieren (wichtig: gleiches Modell wie beim Indexieren)\n",
    "    embeddings = OllamaEmbeddings(model=embed_model)\n",
    "\n",
    "    client_settings = Settings(anonymized_telemetry=False)\n",
    "    vs = Chroma(\n",
    "        persist_directory=persist_dir,\n",
    "        embedding_function=embeddings,\n",
    "    )\n",
    "\n",
    "    # Alle Einträge holen\n",
    "    results = vs._collection.get(include=[\"embeddings\", \"metadatas\", \"documents\"])\n",
    "\n",
    "    with open(out_file, \"w\", newline=\"\", encoding=\"utf-8\") as f:\n",
    "        writer = csv.writer(f, delimiter=\"\\t\")\n",
    "        # Header\n",
    "        writer.writerow([\"id\", \"text\", \"embedding\", \"metadata\"])\n",
    "        for _id, doc, emb, meta in zip(\n",
    "            results[\"ids\"], results[\"documents\"], results[\"embeddings\"], results[\"metadatas\"]\n",
    "        ):\n",
    "            writer.writerow([\n",
    "                _id,\n",
    "                doc.replace(\"\\n\", \" \") if doc else \"\",\n",
    "                \" \".join(map(str, emb)) if emb is not None else \"\",\n",
    "                str(meta) if meta else \"{}\"\n",
    "            ])\n",
    "    print(f\"[OK] Exportiert nach {out_file}\")\n",
    "\n",
    "if __name__ == \"__main__\":\n",
    "    export_to_tsv(PERSIST_DIR, EMBED_MODEL)\n"
   ]
  },
  {
   "cell_type": "code",
   "execution_count": 14,
   "id": "31ab174e-e61c-45e5-869f-8223845a03f8",
   "metadata": {},
   "outputs": [
    {
     "name": "stderr",
     "output_type": "stream",
     "text": [
      "Failed to send telemetry event ClientStartEvent: capture() takes 1 positional argument but 3 were given\n",
      "Failed to send telemetry event ClientCreateCollectionEvent: capture() takes 1 positional argument but 3 were given\n"
     ]
    },
    {
     "name": "stdout",
     "output_type": "stream",
     "text": [
      "Anzahl: 240\n",
      "Dimension: 768\n",
      "Distanzmetrik: unbekannt\n",
      "Beispiel-IDs: ['28c06547-c126-4193-96c9-8cb78f55b8fb']\n",
      "Beispiel-Metadaten: [None]\n",
      "Beispiel-Text: G 1/02 (G020001EP1) [EN] Points 4 and 6 of the Notice from the Vice-President Directorate-General 2 dated 28 April 1999 (OJ EPO 1999, 506) do not conflict with provisions of a higher level.…\n"
     ]
    },
    {
     "data": {
      "text/plain": [
       "''"
      ]
     },
     "execution_count": 14,
     "metadata": {},
     "output_type": "execute_result"
    }
   ],
   "source": [
    "import os\n",
    "os.environ.setdefault(\"CHROMA_TELEMETRY_DISABLED\", \"1\")  # optional: Telemetrie aus\n",
    "\n",
    "from langchain_chroma import Chroma\n",
    "from chromadb.config import Settings\n",
    "\n",
    "\n",
    "\n",
    "vs = Chroma(persist_directory=PERSIST_DIR)\n",
    "\n",
    "count = vs._collection.count()\n",
    "e = vs._collection.get(include=[\"embeddings\",\"metadatas\",\"documents\"], limit=1)\n",
    "dim = len(e[\"embeddings\"][0])                    # Embedding-Dimension\n",
    "space = (vs._collection.metadata or {}).get(\"hnsw:space\", \"unbekannt\")  # Distanzmetrik\n",
    "\n",
    "print(\"Anzahl:\", count)\n",
    "print(\"Dimension:\", dim)\n",
    "print(\"Distanzmetrik:\", space)\n",
    "print(\"Beispiel-IDs:\", e[\"ids\"])\n",
    "print(\"Beispiel-Metadaten:\", e[\"metadatas\"])\n",
    "print(\"Beispiel-Text:\", (e[\"documents\"][0][:200] + \"…\") if e[\"documents\"] else \"\")\n",
    ","
   ]
  }
 ],
 "metadata": {
  "kernelspec": {
   "display_name": "Python 3 (ipykernel)",
   "language": "python",
   "name": "python3"
  },
  "language_info": {
   "codemirror_mode": {
    "name": "ipython",
    "version": 3
   },
   "file_extension": ".py",
   "mimetype": "text/x-python",
   "name": "python",
   "nbconvert_exporter": "python",
   "pygments_lexer": "ipython3",
   "version": "3.13.7"
  }
 },
 "nbformat": 4,
 "nbformat_minor": 5
}
